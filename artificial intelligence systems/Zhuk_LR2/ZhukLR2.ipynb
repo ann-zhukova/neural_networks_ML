{
 "cells": [
  {
   "cell_type": "markdown",
   "id": "70a20d37",
   "metadata": {},
   "source": [
    "# Лабораторная работа №2\n"
   ]
  },
  {
   "cell_type": "markdown",
   "id": "d757bc60",
   "metadata": {},
   "source": [
    "Жуковой Анны 6302-020302D\n",
    "\n",
    "Ресурсы:\n",
    "\n",
    "[filter()](https://pythonru.com/uroki/funkcija-filter-dlja-nachinajushhih)\n",
    "\n",
    "[split](https://pythonru.com/baza-znanij/razdelit-stroku-split)"
   ]
  },
  {
   "cell_type": "markdown",
   "id": "58100ed1",
   "metadata": {},
   "source": [
    "### Задача 1.\n",
    "\n",
    "Дан список случайных целых чисел arr. \n",
    "\n",
    "Реализуйте функцию, которая будет принимать список и возвращать кортеж состояющий из:\n",
    "1) Максимума\n",
    "\n",
    "2) Минимума\n",
    "\n",
    "3) Среднего\n",
    "\n",
    "4) Медианы\n"
   ]
  },
  {
   "cell_type": "code",
   "execution_count": 1,
   "id": "73884582",
   "metadata": {},
   "outputs": [],
   "source": [
    "# Здесь ничего менять не надо, это исходные данные с которыми будете работать\n",
    "import random\n",
    "\n",
    "# в arr будет записан список из 50 случайных целых чисел в диапазоне от -100 до 100\n",
    "arr = random.sample(range(-100, 100), 50)"
   ]
  },
  {
   "cell_type": "code",
   "execution_count": 2,
   "id": "ae2484b8",
   "metadata": {},
   "outputs": [
    {
     "name": "stdout",
     "output_type": "stream",
     "text": [
      "[55, -18, -45, 10, 2, 80, -71, -55, 7, 37, 31, -84, 20, -16, 17, 72, -8, 11, -53, 52, -7, 93, 67, -35, -59, -70, -74, 15, -30, 87, -65, 19, -64, 48, -60, -22, 60, 88, 91, 63, -56, 36, 57, 41, -17, 98, -27, 86, -69, 14]\n"
     ]
    }
   ],
   "source": [
    "# Убедимся в этом\n",
    "print(arr)"
   ]
  },
  {
   "cell_type": "code",
   "execution_count": 23,
   "id": "2bdf05f1",
   "metadata": {},
   "outputs": [],
   "source": [
    "# в данной функции реализуйте нахождение максимума, минимума, среднего и медианы. Вернуть их в любом порядке. \n",
    "# Слова max, min, mean являются КЛЮЧЕВЫМИ не именуйте так свои переменные!\n",
    "from statistics import median, mean\n",
    "def list_stat(arr):\n",
    "    arr.sort()\n",
    "    minOfList = arr[0]\n",
    "    maxOfList = arr[len(arr)-1]\n",
    "    mediana = median(arr)\n",
    "    #meanOfList = sum(arr)/len(arr)\n",
    "    meanOfList = mean(arr)\n",
    "    return (minOfList, maxOfList, mediana, meanOfList)\n",
    "    pass"
   ]
  },
  {
   "cell_type": "code",
   "execution_count": 24,
   "id": "82749c0a",
   "metadata": {},
   "outputs": [
    {
     "name": "stdout",
     "output_type": "stream",
     "text": [
      "(-84, 98, 10.5, 7.04)\n"
     ]
    }
   ],
   "source": [
    "print(list_stat(arr))"
   ]
  },
  {
   "cell_type": "markdown",
   "id": "8dcc297d",
   "metadata": {},
   "source": [
    "### Задача 2.\n",
    "\n",
    "Дан список из предыдущей задачи.\n",
    "\n",
    "Создайте функцию, которая принимает список и возвращает отсортированный по убыванию список из которого удалены все ОТРИЦАТЕЛЬНЫЕ ЧЕТНЫЕ числа.\n",
    "\n",
    "Подсказка: можно решить итеративно в лоб, добавляя в новый список требуемые элементы. Либо использовать filter(), про который можно прочесть в документации (потребуется посмотреть еще лямбда-функции)."
   ]
  },
  {
   "cell_type": "code",
   "execution_count": 7,
   "id": "eada7f6d",
   "metadata": {},
   "outputs": [],
   "source": [
    "# Введите здесь свое решение\n",
    "def filter_neg_odd_num(in_num):\n",
    "    if in_num >= 0 or (in_num % 2) != 0:\n",
    "        return True\n",
    "    else:\n",
    "        return False\n",
    "def change_list(arr):\n",
    "    return list(filter(filter_neg_odd_num, arr))\n",
    "    pass"
   ]
  },
  {
   "cell_type": "code",
   "execution_count": 9,
   "id": "f0604947",
   "metadata": {},
   "outputs": [
    {
     "name": "stdout",
     "output_type": "stream",
     "text": [
      "[-71, -69, -65, -59, -55, -53, -45, -35, -27, -17, -7, 2, 7, 10, 11, 14, 15, 17, 19, 20, 31, 36, 37, 41, 48, 52, 55, 57, 60, 63, 67, 72, 80, 86, 87, 88, 91, 93, 98]\n"
     ]
    }
   ],
   "source": [
    "print(change_list(arr))"
   ]
  },
  {
   "cell_type": "markdown",
   "id": "d00b2c0e",
   "metadata": {},
   "source": [
    "### Задача 3.\n",
    "\n",
    "Дана строка. \n",
    "\n",
    "Создайте функцию, которая принимает строку и возвращает кортеж из количества уникальных слов и длины строки. Регистр не является признаком уникальности слова, т.е. Pump и pump равнозначны. \n",
    "\n",
    "Подсказка: прочитайте про функцию split(). Обратите внимание, что нужно удалить все знаки препинания."
   ]
  },
  {
   "cell_type": "code",
   "execution_count": 10,
   "id": "b438bac9",
   "metadata": {},
   "outputs": [],
   "source": [
    "s = 'On the other hand, we denounce with righteous indignation and \\\n",
    "dislike men who are so beguiled and demoralized by the charms of \\\n",
    "pleasure of the moment, so blinded by desire, that they cannot \\\n",
    "foresee the pain and trouble that are bound to ensue; and equal \\\n",
    "blame belongs to those who fail in their duty through weakness of will, \\\n",
    "which is the same as saying through shrinking from toil and pain.'\n"
   ]
  },
  {
   "cell_type": "code",
   "execution_count": 21,
   "id": "761bc35c",
   "metadata": {},
   "outputs": [],
   "source": [
    "def task3(s):\n",
    "    chars = chars = [',', '.', '!', \"*\", \"'\\'\"]\n",
    "    s = s.lower()\n",
    "    for char in chars:\n",
    "        s = s.replace(char, '')\n",
    "    arr = s.split(' ')\n",
    "    print(arr)\n",
    "    setOfWords = set()\n",
    "    for i in range(len(arr)):\n",
    "        if not (arr[i] in setOfWords):\n",
    "            setOfWords.add(arr[i])\n",
    "    return (len(setOfWords), len(arr))"
   ]
  },
  {
   "cell_type": "code",
   "execution_count": 22,
   "id": "e1092d92",
   "metadata": {},
   "outputs": [
    {
     "name": "stdout",
     "output_type": "stream",
     "text": [
      "['on', 'the', 'other', 'hand', 'we', 'denounce', 'with', 'righteous', 'indignation', 'and', 'dislike', 'men', 'who', 'are', 'so', 'beguiled', 'and', 'demoralized', 'by', 'the', 'charms', 'of', 'pleasure', 'of', 'the', 'moment', 'so', 'blinded', 'by', 'desire', 'that', 'they', 'cannot', 'foresee', 'the', 'pain', 'and', 'trouble', 'that', 'are', 'bound', 'to', 'ensue;', 'and', 'equal', 'blame', 'belongs', 'to', 'those', 'who', 'fail', 'in', 'their', 'duty', 'through', 'weakness', 'of', 'will', 'which', 'is', 'the', 'same', 'as', 'saying', 'through', 'shrinking', 'from', 'toil', 'and', 'pain']\n",
      "(52, 70)\n"
     ]
    }
   ],
   "source": [
    "print(task3(s))"
   ]
  },
  {
   "cell_type": "markdown",
   "id": "1f412e93",
   "metadata": {},
   "source": [
    "### Задача 4\n",
    "\n",
    "Дана строка из задачи выше.\n",
    "\n",
    "Создайте функцию, которая принимает строку и считает количество упоминаний каждого слова и возвращает ответ в виде словаря.\n",
    "Выведите этот словарь. "
   ]
  },
  {
   "cell_type": "code",
   "execution_count": 13,
   "id": "120a8592",
   "metadata": {},
   "outputs": [],
   "source": [
    "def task4(s):\n",
    "    chars = [';', ':', '!', \"*\", \".\"]\n",
    "    s = s.lower()\n",
    "    for char in chars:\n",
    "        s = s.replace(char, '')\n",
    "    arr = s.split(' ')\n",
    "    d = {}\n",
    "    for i in range(len(arr)):\n",
    "        if not (arr[i] in d):\n",
    "            d[arr[i]] = 1\n",
    "        else:\n",
    "             d[arr[i]] += 1\n",
    "    return d"
   ]
  },
  {
   "cell_type": "code",
   "execution_count": 14,
   "id": "d8963806",
   "metadata": {},
   "outputs": [
    {
     "name": "stdout",
     "output_type": "stream",
     "text": [
      "{'on': 1, 'the': 5, 'other': 1, 'hand,': 1, 'we': 1, 'denounce': 1, 'with': 1, 'righteous': 1, 'indignation': 1, 'and': 5, 'dislike': 1, 'men': 1, 'who': 2, 'are': 2, 'so': 2, 'beguiled': 1, 'demoralized': 1, 'by': 2, 'charms': 1, 'of': 3, 'pleasure': 1, 'moment,': 1, 'blinded': 1, 'desire,': 1, 'that': 2, 'they': 1, 'cannot': 1, 'foresee': 1, 'pain': 2, 'trouble': 1, 'bound': 1, 'to': 2, 'ensue': 1, 'equal': 1, 'blame': 1, 'belongs': 1, 'those': 1, 'fail': 1, 'in': 1, 'their': 1, 'duty': 1, 'through': 2, 'weakness': 1, 'will,': 1, 'which': 1, 'is': 1, 'same': 1, 'as': 1, 'saying': 1, 'shrinking': 1, 'from': 1, 'toil': 1}\n"
     ]
    }
   ],
   "source": [
    "print(task4(s))"
   ]
  },
  {
   "cell_type": "markdown",
   "id": "c5fdf1e0",
   "metadata": {},
   "source": [
    "### Задача 5\n",
    "\n",
    "Дана строка из задачи выше.\n",
    "\n",
    "Создайте функцию, которая принимает строку и удаляет все слова начинающиеся на t (регистр не имеет значения) и возвращает полученную строку."
   ]
  },
  {
   "cell_type": "code",
   "execution_count": 3,
   "id": "e37dadf6",
   "metadata": {},
   "outputs": [],
   "source": [
    "s = 'On the other hand, we denounce with righteous indignation and \\\n",
    "dislike men who are so beguiled and demoralized by the charms of \\\n",
    "pleasure of the moment, so blinded by desire, that they cannot \\\n",
    "foresee the pain and trouble that are bound to ensue; and equal \\\n",
    "blame belongs to those who fail in their duty through weakness of will, \\\n",
    "which is the same as saying through shrinking from toil and pain.'"
   ]
  },
  {
   "cell_type": "code",
   "execution_count": 4,
   "id": "0c0966f0",
   "metadata": {},
   "outputs": [
    {
     "name": "stdout",
     "output_type": "stream",
     "text": [
      "On other hand, we denounce with righteous indignation and dislike men who are so beguiled and demoralized by charms of pleasure of moment, so blinded by desire, they cannot foresee pain and that are bound ensue; and equal blame belongs those who fail in duty weakness of will, which is same as saying shrinking from and pain.\n"
     ]
    }
   ],
   "source": [
    "arr = s.split(' ')\n",
    "for i in arr:\n",
    "    if(i[0] == 't' or i[0] == 'T'):\n",
    "        arr.remove(i)\n",
    "res = \" \".join(arr)\n",
    "print(res)"
   ]
  },
  {
   "cell_type": "markdown",
   "id": "1a6dd5d2",
   "metadata": {},
   "source": [
    "### Задача 6\n",
    "\n",
    "Дана строка из задачи выше.\n",
    "\n",
    "Посчитайте количество глассных и согласных букв. Выведите результат."
   ]
  },
  {
   "cell_type": "code",
   "execution_count": 26,
   "id": "04b8f6f0",
   "metadata": {},
   "outputs": [],
   "source": [
    "s = 'On the other hand, we denounce with righteous indignation and \\\n",
    "dislike men who are so beguiled and demoralized by the charms of \\\n",
    "pleasure of the moment, so blinded by desire, that they cannot \\\n",
    "foresee the pain and trouble that are bound to ensue; and equal \\\n",
    "blame belongs to those who fail in their duty through weakness of will, \\\n",
    "which is the same as saying through shrinking from toil and pain.'"
   ]
  },
  {
   "cell_type": "code",
   "execution_count": 30,
   "id": "06285400",
   "metadata": {},
   "outputs": [
    {
     "name": "stdout",
     "output_type": "stream",
     "text": [
      "123\n"
     ]
    }
   ],
   "source": [
    "chars = [',', '.', '!', \"*\", \"'\\'\"]\n",
    "s = s.lower()\n",
    "for char in chars:\n",
    "    s = s.replace(char, '')\n",
    "s = s.replace(' ', '')\n",
    "vowels = \"aeiou\"\n",
    "count = sum(s.count(vowel) for vowel in vowels)\n",
    "print(count)"
   ]
  },
  {
   "cell_type": "code",
   "execution_count": 31,
   "id": "c53467dc",
   "metadata": {},
   "outputs": [
    {
     "name": "stdout",
     "output_type": "stream",
     "text": [
      "194\n"
     ]
    }
   ],
   "source": [
    "print(len(s)-count)"
   ]
  },
  {
   "cell_type": "markdown",
   "id": "0fb06cef",
   "metadata": {},
   "source": [
    "### Задача 7\n",
    "Из приложенного файла lab_2.txt считать текст. \n",
    "\n",
    "Посчитайте количество предложений в нем и выведите."
   ]
  },
  {
   "cell_type": "code",
   "execution_count": 21,
   "id": "1993a351",
   "metadata": {},
   "outputs": [],
   "source": [
    "def readFromFile(name):\n",
    "    with open(name, 'r') as f:\n",
    "        s = f.read()\n",
    "        pass\n",
    "    arr = s.split('.')\n",
    "    return len(arr)"
   ]
  },
  {
   "cell_type": "code",
   "execution_count": 22,
   "id": "24ffb876",
   "metadata": {},
   "outputs": [
    {
     "name": "stdout",
     "output_type": "stream",
     "text": [
      "58\n"
     ]
    }
   ],
   "source": [
    "print(readFromFile('02_lab_2.txt'))"
   ]
  },
  {
   "cell_type": "markdown",
   "id": "ab52fde5",
   "metadata": {},
   "source": [
    "### Задача 8\n",
    "Заданы два вектора.\n",
    "\n",
    "Напишите функцию которая принимает два списка и возвращает значение их скалярного произведения."
   ]
  },
  {
   "cell_type": "code",
   "execution_count": 25,
   "id": "1ecb0506",
   "metadata": {},
   "outputs": [],
   "source": [
    "vec_1 = [0, 1, 15]\n",
    "vec_2 = [2, 4, 3]"
   ]
  },
  {
   "cell_type": "code",
   "execution_count": 26,
   "id": "23d6cfb2",
   "metadata": {
    "scrolled": true
   },
   "outputs": [
    {
     "name": "stdout",
     "output_type": "stream",
     "text": [
      "49\n"
     ]
    }
   ],
   "source": [
    "import numpy as np\n",
    "print(np.dot(vec_1, vec_2))"
   ]
  },
  {
   "cell_type": "markdown",
   "id": "b98c42a0",
   "metadata": {},
   "source": [
    "### *Задача 9\n",
    "\n",
    "Дан список состоящий из пар натуральных чисел и одного непарного числа. Найти это число и вывести.\n",
    "\n",
    "Подсказка: можно и нужно использовать оператор XOR. Другие варианты тоже сойдут."
   ]
  },
  {
   "cell_type": "code",
   "execution_count": 7,
   "id": "a6484592",
   "metadata": {},
   "outputs": [],
   "source": [
    "list_with_forever_alone = [2, 1, 3, 3, 1, 5, 2, 6, 9, 8, 8, 9, 2, 6, 5, 3, 2]"
   ]
  },
  {
   "cell_type": "code",
   "execution_count": 8,
   "id": "dc8bf703",
   "metadata": {},
   "outputs": [
    {
     "name": "stdout",
     "output_type": "stream",
     "text": [
      "3\n"
     ]
    }
   ],
   "source": [
    "res = -1\n",
    "for elem in list_with_forever_alone:\n",
    "    if(res == -1):\n",
    "        res = elem\n",
    "    else:\n",
    "        res = res^elem\n",
    "print(res)"
   ]
  },
  {
   "cell_type": "markdown",
   "id": "58c7a367",
   "metadata": {},
   "source": [
    "### *Задача 10\n",
    "\n",
    "Дан список натуральных чисел. Вывести все числа, являющиеся степенью двойки."
   ]
  },
  {
   "cell_type": "code",
   "execution_count": 13,
   "id": "9adc83bd",
   "metadata": {},
   "outputs": [],
   "source": [
    "list_with_power_two = [24, 13, 25, 32, 17, 8, 2, 14, 0, 16, 1]"
   ]
  },
  {
   "cell_type": "code",
   "execution_count": 18,
   "id": "c69960d9",
   "metadata": {},
   "outputs": [
    {
     "name": "stdout",
     "output_type": "stream",
     "text": [
      "[32, 8, 2, 16, 1]\n"
     ]
    }
   ],
   "source": [
    "res = []\n",
    "for elem in list_with_power_two:\n",
    "    if elem > 0 and elem & (elem - 1) == 0:\n",
    "        res.append(elem)\n",
    "print(res)"
   ]
  }
 ],
 "metadata": {
  "kernelspec": {
   "display_name": "Python 3 (ipykernel)",
   "language": "python",
   "name": "python3"
  },
  "language_info": {
   "codemirror_mode": {
    "name": "ipython",
    "version": 3
   },
   "file_extension": ".py",
   "mimetype": "text/x-python",
   "name": "python",
   "nbconvert_exporter": "python",
   "pygments_lexer": "ipython3",
   "version": "3.9.7"
  }
 },
 "nbformat": 4,
 "nbformat_minor": 5
}
