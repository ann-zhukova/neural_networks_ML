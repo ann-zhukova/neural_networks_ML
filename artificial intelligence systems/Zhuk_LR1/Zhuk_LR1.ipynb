{
 "cells": [
  {
   "cell_type": "markdown",
   "id": "e445b979",
   "metadata": {},
   "source": [
    "# Лабораторная работа 1: Введение в Python"
   ]
  },
  {
   "cell_type": "markdown",
   "id": "0810a8a9",
   "metadata": {},
   "source": [
    "Жуковой Анны 6302-020302D\n",
    "\n",
    "Данная лабораторная предназначена для рассмотрения основного синтаксиса языка Python в рамках анализа данных и не является всеобъемлющей. \n",
    "\n",
    "Ресурсы:\n",
    "\n",
    "1) М.Лутца \"Изучаем Python\" в двух томах (Qui quaerit, repent)\n",
    "\n",
    "2) Официальная документация [Python](https://docs-python.ru/)\n",
    "\n",
    "3) Списки [list](https://pythonworld.ru/tipy-dannyx-v-python/spiski-list-funkcii-i-metody-spiskov.html)\n",
    "\n",
    "4) Строки [string](https://pythonworld.ru/tipy-dannyx-v-python/stroki-funkcii-i-metody-strok.html)\n",
    "\n",
    "5) Множества [Set](https://pythonworld.ru/tipy-dannyx-v-python/mnozhestva-set-i-frozenset.html)\n",
    "\n",
    "6) Словари [Dict](https://pythonworld.ru/tipy-dannyx-v-python/slovari-dict-funkcii-i-metody-slovarej.html)"
   ]
  },
  {
   "cell_type": "markdown",
   "id": "4ad2dcab",
   "metadata": {},
   "source": [
    "В данной лабораторной будут рассмотрены:\n",
    "- Типы данных\n",
    "- Условные конструкции\n",
    "- Циклы\n",
    "- Функции\n",
    "- Классы\n",
    "- Импорт модулей"
   ]
  },
  {
   "cell_type": "markdown",
   "id": "d09c5f06",
   "metadata": {},
   "source": [
    "## Типы данных\n",
    "Типы данных в Python можно разделить следующим образом:\n",
    "- Числа\n",
    " - Целочисленный int\n",
    " - Вещественный float\n",
    "- Последовательности\n",
    " - Строка str\n",
    " - Список list \n",
    " - Кортеж tuple\n",
    "- Множества set\n",
    "- Словари dict\n",
    "- Логические bool"
   ]
  },
  {
   "cell_type": "markdown",
   "id": "1bbab2d1",
   "metadata": {},
   "source": [
    "Стоит выделить что все эти типы разделяются на две группы:\n",
    "- Изменяемые (list, dict, set)\n",
    "- Неизменяемые (int, float, str, tuple, bool)\n"
   ]
  },
  {
   "cell_type": "markdown",
   "id": "db18d3d4",
   "metadata": {},
   "source": [
    "Язык Python является динамически типизированным поэтому при создании переменных и при их перезаписи не требуется явное указание типа данных"
   ]
  },
  {
   "cell_type": "markdown",
   "id": "6a10553c",
   "metadata": {},
   "source": [
    "### 1 Целочисленный тип данных\n",
    "\n",
    "Целочисленный тип данных позволяет работать с целыми числами, поддерживая длинную арифметику и неявное приведение к вещественному типу данных при операциях деления или извлечения корня"
   ]
  },
  {
   "cell_type": "markdown",
   "id": "cdc766c9",
   "metadata": {},
   "source": [
    "#### 1 Операции над целыми числами"
   ]
  },
  {
   "cell_type": "markdown",
   "id": "63eb42b8",
   "metadata": {},
   "source": [
    "### Задание:\n",
    "Создайте переменную и присвойте ей значение 42317. Посчитайте остаток от деления на 7 и целочисленное деление на 7.\n",
    "\n",
    "Разницу между результатами возведите в квадрат."
   ]
  },
  {
   "cell_type": "code",
   "execution_count": 24,
   "id": "87b96139",
   "metadata": {},
   "outputs": [
    {
     "name": "stdout",
     "output_type": "stream",
     "text": [
      "2\n",
      "6045\n",
      "36517849\n"
     ]
    }
   ],
   "source": [
    "var = 42317\n",
    "remainder = var % 7\n",
    "quotient = var // 7\n",
    "sqrtOfdifference = (remainder - quotient)**2\n",
    "print(remainder)\n",
    "print(quotient)\n",
    "print(sqrtOfdifference)"
   ]
  },
  {
   "cell_type": "markdown",
   "id": "17b226d5",
   "metadata": {},
   "source": [
    "### 2 Вещественный тип данных\n",
    "\n",
    "Вещественный тип данных так же позволяет использовать все вышеперечисленные операции"
   ]
  },
  {
   "cell_type": "markdown",
   "id": "06e853d4",
   "metadata": {},
   "source": [
    "### Задание:\n",
    "Создайте переменные со значениями 15.17 и 21.11. Выведите кубический корень их отношения."
   ]
  },
  {
   "cell_type": "code",
   "execution_count": 25,
   "id": "162b77eb",
   "metadata": {},
   "outputs": [
    {
     "name": "stdout",
     "output_type": "stream",
     "text": [
      "0.8957066168598548\n"
     ]
    }
   ],
   "source": [
    "var1 = 15.17\n",
    "var2 = 21.11\n",
    "cube = (var1/var2)**(1/3)\n",
    "print(cube)"
   ]
  },
  {
   "cell_type": "markdown",
   "id": "e0a26e59",
   "metadata": {},
   "source": [
    "### 3 Последовательности\n"
   ]
  },
  {
   "cell_type": "markdown",
   "id": "88178c88",
   "metadata": {},
   "source": [
    "### 3.1 Строки\n",
    "\n",
    "Строковый тип данных (str) в Python может представляться как последовательность отдельных символов (строк одинарной длины). Использование двойных или одинарных кавычек равнозначно. В строках могут применяться все символы из ASCII."
   ]
  },
  {
   "cell_type": "markdown",
   "id": "75eacb11",
   "metadata": {},
   "source": [
    "Так как str является неизменяемым типом данных, то мы не можем поменять его элементы - будет ошибка:"
   ]
  },
  {
   "cell_type": "markdown",
   "id": "8025408b",
   "metadata": {},
   "source": [
    "Возможно использование срезов при помощи выражения left_bound:right_bound. Левая граница включается, правая не включается:"
   ]
  },
  {
   "cell_type": "markdown",
   "id": "9f4745e8",
   "metadata": {},
   "source": [
    "Можно использовать итерацию с шагом при помощи выражения ::step :"
   ]
  },
  {
   "cell_type": "markdown",
   "id": "554025c3",
   "metadata": {},
   "source": [
    "Строки можно складывать (конкатенация) и умножать (репликация)"
   ]
  },
  {
   "cell_type": "markdown",
   "id": "d63a833e",
   "metadata": {},
   "source": [
    "Для исправления этого нужно применить ЯВНОЕ приведение типа, которое получается следующим образом:"
   ]
  },
  {
   "cell_type": "markdown",
   "id": "46402c76",
   "metadata": {},
   "source": [
    "Для строк применимы встроенные методы, которые можно вызвать у объекта строки:\n",
    "- Приведение к верхнему/нижнему регистру\n",
    "- Поиск подстроки\n",
    "- Замена символов\n",
    "- и т.д.\n",
    "\n",
    "Весь список можно посмотреть здесь: https://pythonworld.ru/tipy-dannyx-v-python/stroki-funkcii-i-metody-strok.html"
   ]
  },
  {
   "cell_type": "markdown",
   "id": "eb1c034e",
   "metadata": {},
   "source": [
    "### Задание\n",
    "\n",
    "Создайте переменную со следующим значением:\n",
    "\n",
    "Habitasse est. Sodales ultricies. Imperdiet sit nunc odio. Non ultricies. Dapibus risus mattis dui tempus arcu elit. Imperdiet in e.\n",
    "\n",
    "Приведите ее к нижнему регистру и удалите все знаки препинания. Найдите позицию первого знака в слове ultricies."
   ]
  },
  {
   "cell_type": "code",
   "execution_count": 33,
   "id": "41aa8aab",
   "metadata": {},
   "outputs": [
    {
     "ename": "TypeError",
     "evalue": "replace() argument 1 must be str, not list",
     "output_type": "error",
     "traceback": [
      "\u001b[1;31m---------------------------------------------------------------------------\u001b[0m",
      "\u001b[1;31mTypeError\u001b[0m                                 Traceback (most recent call last)",
      "\u001b[1;32m~\\AppData\\Local\\Temp/ipykernel_13212/258140728.py\u001b[0m in \u001b[0;36m<module>\u001b[1;34m\u001b[0m\n\u001b[0;32m      3\u001b[0m \u001b[0ms\u001b[0m \u001b[1;33m=\u001b[0m \u001b[0ms\u001b[0m\u001b[1;33m.\u001b[0m\u001b[0mlower\u001b[0m\u001b[1;33m(\u001b[0m\u001b[1;33m)\u001b[0m\u001b[1;33m\u001b[0m\u001b[1;33m\u001b[0m\u001b[0m\n\u001b[0;32m      4\u001b[0m \u001b[1;33m\u001b[0m\u001b[0m\n\u001b[1;32m----> 5\u001b[1;33m \u001b[0ms\u001b[0m \u001b[1;33m=\u001b[0m \u001b[0ms\u001b[0m\u001b[1;33m.\u001b[0m\u001b[0mreplace\u001b[0m\u001b[1;33m(\u001b[0m\u001b[0mchars\u001b[0m\u001b[1;33m,\u001b[0m \u001b[1;34m''\u001b[0m\u001b[1;33m)\u001b[0m\u001b[1;33m\u001b[0m\u001b[1;33m\u001b[0m\u001b[0m\n\u001b[0m\u001b[0;32m      6\u001b[0m \u001b[0mprint\u001b[0m\u001b[1;33m(\u001b[0m\u001b[0ms\u001b[0m\u001b[1;33m)\u001b[0m\u001b[1;33m\u001b[0m\u001b[1;33m\u001b[0m\u001b[0m\n\u001b[0;32m      7\u001b[0m \u001b[0mprint\u001b[0m\u001b[1;33m(\u001b[0m\u001b[0ms\u001b[0m\u001b[1;33m.\u001b[0m\u001b[0mfind\u001b[0m\u001b[1;33m(\u001b[0m\u001b[1;34m'u'\u001b[0m\u001b[1;33m)\u001b[0m\u001b[1;33m)\u001b[0m\u001b[1;33m\u001b[0m\u001b[1;33m\u001b[0m\u001b[0m\n",
      "\u001b[1;31mTypeError\u001b[0m: replace() argument 1 must be str, not list"
     ]
    }
   ],
   "source": [
    "s = 'Habitasse est. Sodales ultricies. Imperdiet sit nunc odio. Non ultricies. Dapibus risus mattis dui tempus arcu elit. Imperdiet in e.'\n",
    "chars = [';', ':', '!', \"*\", \".\"]\n",
    "s = s.lower()\n",
    "for char in chars:\n",
    "    s = s.replace(char, '')\n",
    "s = s.replace('.', '')\n",
    "print(s)\n",
    "print(s.find('u'))"
   ]
  },
  {
   "cell_type": "markdown",
   "id": "c3207dd3",
   "metadata": {},
   "source": [
    "### 3.2 Списки"
   ]
  },
  {
   "cell_type": "markdown",
   "id": "b876e6dc",
   "metadata": {},
   "source": [
    "Списки list создаются при помощи квадратных скобок [] и перечисления элементов внутри них. "
   ]
  },
  {
   "cell_type": "markdown",
   "id": "9f101047",
   "metadata": {},
   "source": [
    "Со списками так же можно работать при помощи индексов и срезов:"
   ]
  },
  {
   "cell_type": "markdown",
   "id": "4099e4e9",
   "metadata": {},
   "source": [
    "Так как списки являются изменяемым типом данных, то его элементы можно менять, добавлять и удалять"
   ]
  },
  {
   "cell_type": "markdown",
   "id": "6d10f033",
   "metadata": {},
   "source": [
    "Возможно добавление вложенных списков любой глубины:"
   ]
  },
  {
   "cell_type": "markdown",
   "id": "3441b42d",
   "metadata": {},
   "source": [
    "Списки можно объединять через оператор сложения"
   ]
  },
  {
   "cell_type": "markdown",
   "id": "2be49e02",
   "metadata": {},
   "source": [
    "Вызывая у списка методы .append() или .extend() можно добавлять элемент или дополнять исходный список (в результате он изменяется!):"
   ]
  },
  {
   "cell_type": "markdown",
   "id": "74e93061",
   "metadata": {},
   "source": [
    "### Задание\n",
    "\n",
    "Создайте два списка с элементами 1,2,4,8,16 и 1,2,3,5,7. Объедините эти списки. Отсортируйте по возрастанию. Выведите первые четыре элемента."
   ]
  },
  {
   "cell_type": "code",
   "execution_count": 27,
   "id": "edf94dc6",
   "metadata": {},
   "outputs": [
    {
     "name": "stdout",
     "output_type": "stream",
     "text": [
      "[1, 2, 4, 8, 16, 1, 2, 3, 5, 7]\n",
      "[1, 1, 2, 2, 3, 4, 5, 7, 8, 16]\n",
      "[1, 1, 2, 2]\n"
     ]
    }
   ],
   "source": [
    "list1 = [1,2,4,8,16]\n",
    "list2 = [1,2,3,5,7]\n",
    "listUnion = list1 + list2\n",
    "print(listUnion)\n",
    "listUnion.sort()\n",
    "print(listUnion)\n",
    "print(listUnion[:4:])"
   ]
  },
  {
   "cell_type": "markdown",
   "id": "d5288d04",
   "metadata": {},
   "source": [
    "### 3.3 Кортежи "
   ]
  },
  {
   "cell_type": "markdown",
   "id": "a717e4dc",
   "metadata": {},
   "source": [
    "Кортежи tuple похожи на списки, но являются неизменяемыми, т.е. в них нельзя изменить значение элемента, добавить или удалить элементы. Создаются при помощи () в которых прописываются значения."
   ]
  },
  {
   "cell_type": "markdown",
   "id": "ce3c3c6b",
   "metadata": {},
   "source": [
    "Кортеж можно распаковать в несколько переменных:"
   ]
  },
  {
   "cell_type": "markdown",
   "id": "8d60661f",
   "metadata": {},
   "source": [
    "В кортеже можно применять индексирование и срезы"
   ]
  },
  {
   "cell_type": "markdown",
   "id": "df14ad2e",
   "metadata": {},
   "source": [
    "### 4 Множества"
   ]
  },
  {
   "cell_type": "markdown",
   "id": "b265a0fd",
   "metadata": {},
   "source": [
    "Множество set это набор уникальных элементов. Создается при помощи {} и перечисления в нем элементов."
   ]
  },
  {
   "cell_type": "markdown",
   "id": "e6a7fa80",
   "metadata": {},
   "source": [
    "Применяя set к последовательностям можно получить набор уникальных неупорядоченных значений:"
   ]
  },
  {
   "cell_type": "markdown",
   "id": "5efd9471",
   "metadata": {},
   "source": [
    "У множества нельзя вызывать элементы по индексу и нельзя работать со срезами. Для этого его нужно приводить к типу список list!"
   ]
  },
  {
   "cell_type": "markdown",
   "id": "0c595015",
   "metadata": {},
   "source": [
    "### Задание\n",
    "\n",
    "Даны два списка [1,5,1,1,2,3,7,12,3,6,14,11,11] и [11,6,4,3,3,5,7,18]. Найдите симметрическую разницу этих двух списков. Отсортируйте по убыванию и выведете первые два элемента."
   ]
  },
  {
   "cell_type": "code",
   "execution_count": 28,
   "id": "4d3964a0",
   "metadata": {},
   "outputs": [
    {
     "name": "stdout",
     "output_type": "stream",
     "text": [
      "{1, 2, 4, 12, 14, 18}\n"
     ]
    }
   ],
   "source": [
    "fList =  [1,5,1,1,2,3,7,12,3,6,14,11,11] \n",
    "sList = [11,6,4,3,3,5,7,18]\n",
    "fSet = set(fList)\n",
    "sSet = set(sList)\n",
    "print(fSet ^ sSet)"
   ]
  },
  {
   "cell_type": "markdown",
   "id": "af3ff378",
   "metadata": {},
   "source": [
    "### 5 Словари"
   ]
  },
  {
   "cell_type": "markdown",
   "id": "2398289a",
   "metadata": {},
   "source": [
    "Словарь dict представляет собой набор ключей keys и соответствующих им значений values. \n",
    "Ключи являются уникальными и должны задаваться неизменяемым типом данных, значения могут быть любыми. Создается при помощи {} и требуемых пар key:value.  Применим для быстрого доступа к значениям ключей. Для этого вызывается объект словаря с [] где указывается наименование ключа."
   ]
  },
  {
   "cell_type": "markdown",
   "id": "7a37c83b",
   "metadata": {},
   "source": [
    "### Задание\n",
    "Даны два списка [1,2,3,4,5,6] и ['a','b','c','d','e','f']. Создайте словарь, где ключи будут представлены первым списком, а значения вторым, в том же порядке в каком они представлены."
   ]
  },
  {
   "cell_type": "code",
   "execution_count": 29,
   "id": "2df8c86b",
   "metadata": {},
   "outputs": [
    {
     "name": "stdout",
     "output_type": "stream",
     "text": [
      "{1: 'a', 2: 'b', 3: 'c', 4: 'd', 5: 'e', 6: 'f'}\n"
     ]
    }
   ],
   "source": [
    "keyList =  [1,2,3,4,5,6] \n",
    "valueList = ['a','b','c','d','e','f']\n",
    "d = {keyList[i]: valueList[i] for i in range(len(keyList))}\n",
    "print(d)"
   ]
  },
  {
   "cell_type": "markdown",
   "id": "f4b71a89",
   "metadata": {},
   "source": [
    "### 6 Логический тип"
   ]
  },
  {
   "cell_type": "markdown",
   "id": "d4673d7a",
   "metadata": {},
   "source": [
    "Логический (булев) тип задается двумя ключевыми словами True и False. Данный тип нужен для работы с условными конструкциями (будут рассмотрены далее). True и False могут быть заменены int значениями 1 и 0 соответственно (при явном приведении к целочисленному типу). При приведении любого числа кроме 0 к bool будет получено True, для 0 соответственно False."
   ]
  },
  {
   "cell_type": "markdown",
   "id": "84ecc8ca",
   "metadata": {},
   "source": [
    "## Условные конструкции"
   ]
  },
  {
   "cell_type": "markdown",
   "id": "fd09c338",
   "metadata": {},
   "source": [
    "В Python представлены следующие условные операторы:\n",
    "- операции сравнения \n",
    " - \\> больше\n",
    " - < меньше\n",
    " - == равно\n",
    " - \\>= больше или равно\n",
    " - <= меньше или равно\n",
    " - != не равно\n",
    "- логические операторы\n",
    " - and логическое И\n",
    " - or логическое ИЛИ\n",
    " - not логическое отрицание\n",
    "- оператор вхождение in\n",
    "- оператор сравнения объектов is"
   ]
  },
  {
   "cell_type": "markdown",
   "id": "9aa66791",
   "metadata": {},
   "source": [
    "Условная конструкция в Python задается ключевыми словами if, elif и else. Имеет следующий вид: "
   ]
  },
  {
   "cell_type": "code",
   "execution_count": 74,
   "id": "bb397d89",
   "metadata": {},
   "outputs": [
    {
     "name": "stdout",
     "output_type": "stream",
     "text": [
      "var is greater than zero\n"
     ]
    }
   ],
   "source": [
    "var = 10\n",
    "\n",
    "if var > 0:\n",
    "    print('var is greater than zero')\n",
    "elif var == 0:\n",
    "    print('var is equal zero')\n",
    "else:\n",
    "    print('var is less than zero')"
   ]
  },
  {
   "cell_type": "markdown",
   "id": "23fe0fa6",
   "metadata": {},
   "source": [
    "elif и else не являются обязательными"
   ]
  },
  {
   "cell_type": "markdown",
   "id": "50faeef9",
   "metadata": {},
   "source": [
    "оператор if поддерживает вложенность:"
   ]
  },
  {
   "cell_type": "code",
   "execution_count": 4,
   "id": "db24f837",
   "metadata": {},
   "outputs": [
    {
     "name": "stdout",
     "output_type": "stream",
     "text": [
      "var is greater than 7\n",
      "var is greater than 5\n",
      "var is greater than 0\n"
     ]
    }
   ],
   "source": [
    "if var > 0:\n",
    "    if var > 5:\n",
    "        if var > 7:\n",
    "            print('var is greater than 7')\n",
    "        print('var is greater than 5')\n",
    "    print('var is greater than 0')"
   ]
  },
  {
   "cell_type": "markdown",
   "id": "2cf55c9e",
   "metadata": {},
   "source": [
    "Логические операторы являются представлением булевой алгебры"
   ]
  },
  {
   "cell_type": "markdown",
   "id": "4d0d66c5",
   "metadata": {},
   "source": [
    "При помощи оператора in можно определять наличие элемента в какой-либо последовательности"
   ]
  },
  {
   "cell_type": "markdown",
   "id": "ef8bf41a",
   "metadata": {},
   "source": [
    "При помощи оператора is определяется являются ли объекты слева и справа одним и тем же объектом"
   ]
  },
  {
   "cell_type": "markdown",
   "id": "9cc1a047",
   "metadata": {},
   "source": [
    "### Задание\n",
    "Создайте список цифр любой длины. Определите длину списка. Для случаев больше, равно и меньше 5 выведите соответствующие сообщения. Если список длиннее 5 и в нем есть цифра 3, выведите сообщение \"bingo!\""
   ]
  },
  {
   "cell_type": "code",
   "execution_count": 36,
   "id": "94fd3c8b",
   "metadata": {},
   "outputs": [
    {
     "name": "stdout",
     "output_type": "stream",
     "text": [
      "Длина списка = 5\n"
     ]
    }
   ],
   "source": [
    "listC = {5,6,7,8,3}\n",
    "if len(listC) > 5:\n",
    "    print('Длина списка > 5')\n",
    "    if 3 in listC:\n",
    "        print('bingo!')\n",
    "else:\n",
    "    if len(listC) == 5:\n",
    "        print('Длина списка = 5')\n",
    "    else:\n",
    "        print('Длина списка < 5')"
   ]
  },
  {
   "cell_type": "markdown",
   "id": "0c13e96d",
   "metadata": {},
   "source": [
    "## Циклы"
   ]
  },
  {
   "cell_type": "markdown",
   "id": "19630981",
   "metadata": {},
   "source": [
    "Циклы в Python представлены операторами while и for."
   ]
  },
  {
   "cell_type": "markdown",
   "id": "7ea09094",
   "metadata": {},
   "source": [
    "Оператор while принимает условное выражение, если оно true - оператор будет выполнять операции вложенные в его тело."
   ]
  },
  {
   "cell_type": "markdown",
   "id": "6d860aee",
   "metadata": {},
   "source": [
    "оператор for используется для итерирования по последовательностям, пока не достигнет их конца. \n",
    "\n",
    "Имеет конструкцию: for имя_переменной in имя_последовательности\n",
    "\n",
    "в переменную будет записываться каждый шаг следующий элемент из последовательности начиная с нулевого"
   ]
  },
  {
   "cell_type": "markdown",
   "id": "053c128d",
   "metadata": {},
   "source": [
    "### Задание\n",
    "\n",
    "Дана строка: \n",
    "\n",
    "Habitasse est. Sodales ultricies. Imperdiet sit nunc odio. Non ultricies. Dapibus risus mattis dui tempus arcu elit. Imperdiet in e.\n",
    "\n",
    "Посчитайте количество упоминаний каждого символа (любой регистр) в этой строке и выведите результат.\n",
    "\n",
    "Подсказка: Используйте для решения set и dict"
   ]
  },
  {
   "cell_type": "code",
   "execution_count": 26,
   "id": "c679b4bc",
   "metadata": {},
   "outputs": [
    {
     "name": "stdout",
     "output_type": "stream",
     "text": [
      "{'h': 1, 'a': 6, 'b': 2, 'i': 17, 't': 11, 's': 13, 'e': 12, ' ': 19, '.': 6, 'o': 4, 'd': 6, 'l': 4, 'u': 8, 'r': 6, 'c': 4, 'm': 4, 'p': 4, 'n': 5}\n"
     ]
    }
   ],
   "source": [
    "s = 'Habitasse est. Sodales ultricies. Imperdiet sit nunc odio. Non ultricies. Dapibus risus mattis dui tempus arcu elit. Imperdiet in e.'\n",
    "s = s.lower()\n",
    "d = {}\n",
    "for i in range(len(s)):\n",
    "    if(s[i] in d):\n",
    "        d[s[i]] +=1\n",
    "    else:\n",
    "        d[s[i]] = 1\n",
    "print(d)"
   ]
  },
  {
   "cell_type": "markdown",
   "id": "6c081b8d",
   "metadata": {},
   "source": [
    "## Функции"
   ]
  },
  {
   "cell_type": "markdown",
   "id": "ff4a4c3b",
   "metadata": {},
   "source": [
    "Функции представляют собой обособленную совокупность кода, выполняющего какую-то специфическую задачу, с возможностью бесконечного вызова этого кода без надобности его перезаписи. В Python представляется в виде конструкции:"
   ]
  },
  {
   "cell_type": "code",
   "execution_count": 8,
   "id": "9b1cff42",
   "metadata": {},
   "outputs": [],
   "source": [
    "def name_function(arg1, arg2):\n",
    "    \"\"\"\n",
    "    Тут какой-то код\n",
    "    \"\"\"\n",
    "    return 0 # функция при любом корректном вызове вернет 0"
   ]
  },
  {
   "cell_type": "markdown",
   "id": "26c1d91a",
   "metadata": {},
   "source": [
    "1) Имя функции лучше указывать максимально емким, чтобы при его прочтении было понятно что делает эта функция в контексте\n",
    "\n",
    "2) Функция может не принимать никаких значений, т.е. arg1, arg2, arg... могут отсутствовать\n",
    "\n",
    "3) Функция может ничего не возвращать, т.е. отсутствует оператор return"
   ]
  },
  {
   "cell_type": "markdown",
   "id": "caba560d",
   "metadata": {},
   "source": [
    "Можно явно указывать каким аргументам мы присваиваем передаваемые значения (тогда их последовательность можно менять)"
   ]
  },
  {
   "cell_type": "markdown",
   "id": "27bd15a5",
   "metadata": {},
   "source": [
    "### Задание\n",
    "1) Реализуйте функцию, которая считает квадрат разницы между двумя величинами и возвращает полученное значение"
   ]
  },
  {
   "cell_type": "code",
   "execution_count": 37,
   "id": "458548e3",
   "metadata": {},
   "outputs": [],
   "source": [
    "def sqrtOfDifference(firstVar, secondVar):\n",
    "    return (firstVar - secondVar)**2"
   ]
  },
  {
   "cell_type": "code",
   "execution_count": 38,
   "id": "fcdcaa92",
   "metadata": {},
   "outputs": [
    {
     "name": "stdout",
     "output_type": "stream",
     "text": [
      "4\n"
     ]
    }
   ],
   "source": [
    "print(sqrtOfDifference(2,4))"
   ]
  },
  {
   "cell_type": "markdown",
   "id": "c3341d36",
   "metadata": {},
   "source": [
    "2) Дан список чисел:\n",
    "\n",
    "   [12,32,1,67,2,15,12,68,90]\n",
    "\n",
    "   Реализуйте функцию, которая найдет максимальное значение в этом списке и вернет его."
   ]
  },
  {
   "cell_type": "code",
   "execution_count": 32,
   "id": "1f728745",
   "metadata": {},
   "outputs": [],
   "source": [
    "def maxOfList(l):\n",
    "    l.sort()\n",
    "    return l[len(l)-1]"
   ]
  },
  {
   "cell_type": "code",
   "execution_count": 33,
   "id": "0a6c27c5",
   "metadata": {},
   "outputs": [
    {
     "name": "stdout",
     "output_type": "stream",
     "text": [
      "90\n"
     ]
    }
   ],
   "source": [
    "l = [12,32,1,67,2,15,12,68,90]\n",
    "print(maxOfList(l))"
   ]
  },
  {
   "cell_type": "markdown",
   "id": "6af84bc7",
   "metadata": {},
   "source": [
    "## Классы"
   ]
  },
  {
   "cell_type": "markdown",
   "id": "9234c823",
   "metadata": {},
   "source": [
    "Класс представляет собой некоторую абстрактную сущность, которая имеет свое поведение (методы) и атрибуты. \n",
    "\n",
    "Для создания требуется следующая конструкция:"
   ]
  },
  {
   "cell_type": "code",
   "execution_count": 19,
   "id": "97e1fa2e",
   "metadata": {},
   "outputs": [],
   "source": [
    "class class_name:\n",
    "    def __init__(self, atr_1, atr_2):\n",
    "        self.atr_1 = atr_1\n",
    "        self.atr_2 = atr_2"
   ]
  },
  {
   "cell_type": "markdown",
   "id": "5cd8734d",
   "metadata": {},
   "source": [
    "В классе требуется описать метод __init__() который ОБЯЗАТЕЛЬНО принимает self. Атрибуты в нем необязательны (но зачем вам тогда такой класс?).\n",
    "\n",
    "Для примера создадим класс автомобиль, который принимает в качестве атрибутов количество колес и количество дверей, и у которого по этим атрибутам упрощенно будет определяться что это за тип машины, а так же метод drive сообщающий нам что данный автомобиль едет по дороге:"
   ]
  },
  {
   "cell_type": "code",
   "execution_count": 4,
   "id": "db7bf658",
   "metadata": {},
   "outputs": [],
   "source": [
    "class Car:\n",
    "    \n",
    "    def __init__(self, \n",
    "                 wheels_count, \n",
    "                 doors_count):\n",
    "        self.wheels_count = wheels_count\n",
    "        self.doors_count = doors_count\n",
    "        self.car_type = self.__car_type()\n",
    "    \n",
    "    def __car_type(self):\n",
    "        if self.wheels_count  < 2:\n",
    "            return 'wtf?'\n",
    "        elif self.wheels_count == 3:\n",
    "            return 'tricycle'\n",
    "        elif self.wheels_count == 4:\n",
    "            if self.doors_count == 4:\n",
    "                return 'sedan'\n",
    "            elif self.doors_count == 3:\n",
    "                return 'hatchback'\n",
    "            elif self.doors_count == 2:\n",
    "                return 'coupe'\n",
    "        elif self.wheels_count > 4 and self.wheels_count % 2:\n",
    "            return 'truck'\n",
    "        else:\n",
    "            return 'wtf?'\n",
    "    def drive(self):\n",
    "        print(f'{self.car_type} drives on the road')"
   ]
  },
  {
   "cell_type": "code",
   "execution_count": 5,
   "id": "f888a191",
   "metadata": {},
   "outputs": [
    {
     "name": "stdout",
     "output_type": "stream",
     "text": [
      "coupe\n",
      "sedan\n"
     ]
    }
   ],
   "source": [
    "# создадим объект класса Car с именем coupe и проверим что находится в поле car_type\n",
    "coupe = Car(wheels_count=4, doors_count=2)\n",
    "print(coupe.car_type)\n",
    "\n",
    "# проделаем то же самое для sedan\n",
    "sedan = Car(wheels_count=4, doors_count=4)\n",
    "print(sedan.car_type)"
   ]
  },
  {
   "cell_type": "code",
   "execution_count": 6,
   "id": "b41ab2ac",
   "metadata": {},
   "outputs": [
    {
     "name": "stdout",
     "output_type": "stream",
     "text": [
      "coupe drives on the road\n",
      "sedan drives on the road\n"
     ]
    }
   ],
   "source": [
    "# вызовем метод drive у обоих классов\n",
    "coupe.drive()\n",
    "sedan.drive()"
   ]
  },
  {
   "cell_type": "markdown",
   "id": "ff8f4316",
   "metadata": {},
   "source": [
    "### Задание\n",
    "Создайте класс Plane который будет иметь атрибуты length, wingspan, engines_count. Эти атрибуты должны быть проинициализированы в конструкторе. Так же создайте метод класса, который будет выводить характеристики вашего самолета (нафантазируйте в каком виде).\n",
    "\n",
    "Создайте объект этого класса с разными значениями атрибутов и вызовите у объекта метод показа характеристик."
   ]
  },
  {
   "cell_type": "code",
   "execution_count": 22,
   "id": "8b9cefa9",
   "metadata": {},
   "outputs": [],
   "source": [
    "class Plane:\n",
    "    \n",
    "    def __init__(self, \n",
    "                 length, \n",
    "                 wingspan,\n",
    "                engines_count):\n",
    "        self.length = length\n",
    "        self.wingspan = wingspan\n",
    "        self.engines_count = engines_count\n",
    "    \n",
    "    def plane_info(self):\n",
    "        print(\"Длина {0}, \\nРазмах крыльев {1}, \\nЧисло двигателей {2}\".format(self.length, self.wingspan, self.engines_count))"
   ]
  },
  {
   "cell_type": "code",
   "execution_count": 23,
   "id": "e6675684",
   "metadata": {},
   "outputs": [
    {
     "name": "stdout",
     "output_type": "stream",
     "text": [
      "Длина 13, \n",
      "Размах крыльев 18, \n",
      "Число двигателей 1\n"
     ]
    }
   ],
   "source": [
    "pl = Plane(length=13, wingspan=18, engines_count =1)\n",
    "pl.plane_info()"
   ]
  },
  {
   "cell_type": "markdown",
   "id": "79e4fbec",
   "metadata": {},
   "source": [
    "## Чтение и запись в файл"
   ]
  },
  {
   "cell_type": "markdown",
   "id": "975dc833",
   "metadata": {},
   "source": [
    "Для чтения или записи в файл используется следующая конструкция:\n",
    "\n",
    "f = open('путь_к_файлу', 'флаг_открытия')\n",
    "\n",
    "через методы f появится возможность считывать или записывать в открытый файл то, что нам требуется"
   ]
  },
  {
   "cell_type": "markdown",
   "id": "96c79cf5",
   "metadata": {},
   "source": [
    "Флаг на запись w\n",
    "Флаг на чтение r\n",
    "Флаг на дозапись a"
   ]
  },
  {
   "cell_type": "markdown",
   "id": "58c428ed",
   "metadata": {},
   "source": [
    "Чтобы не закрывать вручную поток чтения/записи лучше использовать следующую конструкцию, которая делает это за вас:"
   ]
  },
  {
   "cell_type": "code",
   "execution_count": 73,
   "id": "12c9deda",
   "metadata": {},
   "outputs": [],
   "source": [
    "with open('test.txt', 'r') as f:\n",
    "    \"\"\"\n",
    "    делаем что угодно с данными из файла\n",
    "    \"\"\"\n",
    "    pass"
   ]
  },
  {
   "cell_type": "markdown",
   "id": "ecb80b7b",
   "metadata": {},
   "source": [
    "### Задание\n",
    "Создайте поток записи в файл (чтобы файл создался при исполнении кода), назовите как хотите. Запишите в него следующую строку:\n",
    "\n",
    "Lorem ipsum dolor sit amet, consectetur adipiscing elit, sed do eiusmod tempor incididunt ut labore et dolore magna aliqua.\n",
    "\n",
    "Закройте поток записи.\n",
    "\n",
    "Откройте поток чтения и считайте из этого файла содержимое. Приведите текст к нижнему регистру, удалите запятые и сохраните его в переменной. Закройте поток чтения.\n",
    "\n",
    "Откройте поток записи и ДОПИШИТЕ с новой строки результат прошлого шага в файл. Закройте поток записи. Проверьте корректность данных в файле.\n",
    "\n",
    "Должно быть быть по итогу в файле:\n",
    "\n",
    "Lorem ipsum dolor sit amet, consectetur adipiscing elit, sed do eiusmod tempor incididunt ut labore et dolore magna aliqua.\n",
    "\n",
    "lorem ipsum dolor sit amet consectetur adipiscing elit sed do eiusmod tempor incididunt ut labore et dolore magna aliqua."
   ]
  },
  {
   "cell_type": "code",
   "execution_count": 39,
   "id": "5ef95e3e",
   "metadata": {},
   "outputs": [],
   "source": [
    "f = open('Zhuk_LR1.txt', 'w')\n",
    "\n",
    "with open('Zhuk_LR1.txt', 'w') as f:\n",
    "    f.write('Lorem ipsum dolor sit amet, consectetur adipiscing elit, sed do eiusmod tempor incididunt ut labore et dolore magna aliqua.')\n",
    "    pass\n",
    "s = ''\n",
    "with open('Zhuk_LR1.txt', 'r') as f:\n",
    "    l_file = f.readlines()\n",
    "    for sf in l_file:\n",
    "        s += sf\n",
    "    s = s.lower()\n",
    "    s = s.replace(',', '')\n",
    "    pass"
   ]
  },
  {
   "cell_type": "code",
   "execution_count": 40,
   "id": "0fb0b967",
   "metadata": {},
   "outputs": [
    {
     "name": "stdout",
     "output_type": "stream",
     "text": [
      "['Lorem ipsum dolor sit amet, consectetur adipiscing elit, sed do eiusmod tempor incididunt ut labore et dolore magna aliqua./nlorem ipsum dolor sit amet consectetur adipiscing elit sed do eiusmod tempor incididunt ut labore et dolore magna aliqua.']\n"
     ]
    }
   ],
   "source": [
    "with open('Zhuk_LR1.txt', 'a') as f:\n",
    "    f.write('/n')\n",
    "    f.write(s)\n",
    "    pass\n",
    "with open('Zhuk_LR1.txt', 'r') as f:\n",
    "    l_file = f.readlines()\n",
    "    print(l_file)\n",
    "    pass"
   ]
  },
  {
   "cell_type": "markdown",
   "id": "a290c046",
   "metadata": {},
   "source": [
    "## Импорт модулей"
   ]
  },
  {
   "cell_type": "markdown",
   "id": "2281db7a",
   "metadata": {},
   "source": [
    "Для многих узких задач существуют готовые оптимальные с точки зрения скорости и времени решения, собранные в отдельные логические объединения (например математические преобразования, работа с матрицами, работа с изображениями и т.д.), называемые модулями.\n",
    "\n",
    "Их подключение выглядит следующим образом:\n",
    "\n",
    "import название_модуля\n",
    "\n",
    "Если он поставляется в пакете, то требуется оказать что он извлекается из определенного пакета\n",
    "\n",
    "from название_пакета import название_модуля\n",
    "\n",
    "Если название слишком длинное, то можно добавить сокращенное название модуля\n",
    "\n",
    "import названия_модуля as нзвн_мдл"
   ]
  },
  {
   "cell_type": "code",
   "execution_count": 41,
   "id": "6a6c8ec4",
   "metadata": {},
   "outputs": [],
   "source": [
    "# модуль для работы с матрицами, векторами и математическими операциями\n",
    "# np общепринятое сокращение для удобства использования в коде модуля numpy\n",
    "import numpy as np\n",
    "\n",
    "# из пакета matplotlib нам потребуется модуль pyplot, к которому мы будем\n",
    "# обращаться по сокращенному общепринятому имени plt\n",
    "from matplotlib import pyplot as plt"
   ]
  },
  {
   "cell_type": "markdown",
   "id": "cf82ceaf",
   "metadata": {},
   "source": [
    "Многих модулей в базовом питоне нет, поэтому их требуется установить отдельно. Это можно сделать через командную строку используя pip:\n",
    "\n",
    "Введем в консоль \n",
    "\n",
    "##### pip install название_модуля\n",
    "\n",
    "Так же возможна установка модулей прямо из jupyter, используя ! pip\n",
    "\n",
    "##### !pip install название_модуля"
   ]
  },
  {
   "cell_type": "markdown",
   "id": "6229876b",
   "metadata": {},
   "source": [
    "### Задание\n",
    "Установите модули pandas, numpy и matplotlib если их нет. Проверить установлены они или нет можно с помощью команды:\n",
    "\n",
    "##### !pip show название_модуля"
   ]
  },
  {
   "cell_type": "code",
   "execution_count": 54,
   "id": "052d5979",
   "metadata": {},
   "outputs": [
    {
     "name": "stdout",
     "output_type": "stream",
     "text": [
      "Name: pandas\n",
      "Version: 1.3.4\n",
      "Summary: Powerful data structures for data analysis, time series, and statistics\n",
      "Home-page: https://pandas.pydata.org\n",
      "Author: The Pandas Development Team\n",
      "Author-email: pandas-dev@python.org\n",
      "License: BSD-3-Clause\n",
      "Location: c:\\users\\dell\\anaconda3\\lib\\site-packages\n",
      "Requires: python-dateutil, pytz, numpy\n",
      "Required-by: statsmodels, seaborn\n",
      "Name: numpy\n",
      "Version: 1.20.3\n",
      "Summary: NumPy is the fundamental package for array computing with Python.\n",
      "Home-page: https://www.numpy.org\n",
      "Author: Travis E. Oliphant et al.\n",
      "Author-email: \n",
      "License: BSD\n",
      "Location: c:\\users\\dell\\anaconda3\\lib\\site-packages\n",
      "Requires: \n",
      "Required-by: tifffile, tables, statsmodels, seaborn, scipy, scikit-learn, scikit-image, PyWavelets, pyerfa, patsy, pandas, numexpr, numba, mkl-random, mkl-fft, matplotlib, imageio, imagecodecs, h5py, daal4py, Bottleneck, bokeh, bkcharts, astropy\n",
      "Name: matplotlib\n",
      "Version: 3.4.3\n",
      "Summary: Python plotting package\n",
      "Home-page: https://matplotlib.org\n",
      "Author: John D. Hunter, Michael Droettboom\n",
      "Author-email: matplotlib-users@python.org\n",
      "License: PSF\n",
      "Location: c:\\users\\dell\\anaconda3\\lib\\site-packages\n",
      "Requires: pyparsing, pillow, python-dateutil, kiwisolver, numpy, cycler\n",
      "Required-by: seaborn, scikit-image\n"
     ]
    }
   ],
   "source": [
    "!pip show pandas\n",
    "!pip show numpy\n",
    "!pip show matplotlib"
   ]
  },
  {
   "cell_type": "code",
   "execution_count": null,
   "id": "142e7a7c",
   "metadata": {},
   "outputs": [],
   "source": []
  }
 ],
 "metadata": {
  "kernelspec": {
   "display_name": "Python 3 (ipykernel)",
   "language": "python",
   "name": "python3"
  },
  "language_info": {
   "codemirror_mode": {
    "name": "ipython",
    "version": 3
   },
   "file_extension": ".py",
   "mimetype": "text/x-python",
   "name": "python",
   "nbconvert_exporter": "python",
   "pygments_lexer": "ipython3",
   "version": "3.9.7"
  }
 },
 "nbformat": 4,
 "nbformat_minor": 5
}
