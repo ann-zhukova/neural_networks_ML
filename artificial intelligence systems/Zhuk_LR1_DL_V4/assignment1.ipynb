{
 "cells": [
  {
   "cell_type": "markdown",
   "metadata": {
    "id": "M6jtvubKjHAb"
   },
   "source": [
    "# Лабораторная работа 1"
   ]
  },
  {
   "cell_type": "markdown",
   "metadata": {
    "id": "JidFusW5oMcl"
   },
   "source": [
    "**Жуковой Анны 6302-020302D**\n",
    "\n",
    "**Вариант 4**"
   ]
  },
  {
   "cell_type": "markdown",
   "metadata": {
    "id": "NUc8UGCgjHAi"
   },
   "source": [
    "1) Классификация данных методом k ближайших соседей ( kNN)\n",
    "\n",
    "2) Классификация данных методом опорных векторов (SVM)\n",
    "\n",
    "3) Построение softmax-классификатора\n",
    "\n",
    "**Вариант 4: задания 1 и 3 на наборе данных MNIST**"
   ]
  },
  {
   "cell_type": "markdown",
   "metadata": {
    "id": "RhSHS1YOjHAl"
   },
   "source": [
    "## 1. Классификация данных методом k ближайших соседей ( kNN)"
   ]
  },
  {
   "cell_type": "markdown",
   "metadata": {},
   "source": [
    "Классификатор методом ближайщих соседей возьмет тестовое изображение и сравнит его с каждым из обучающий выборки, предсказанным классом будет тот, к которому ближе всего расположено изображение.\n",
    "\n",
    "В случае с цифрами можно заметить, что все изображения довольно похожи в отличие от того же набора CIFAR-10.\n",
    "\n",
    "Два изображения будут представлены сначала в виде матриц, затем в виде конкотенированных толбцов.\n",
    "\n",
    "Сравниваться они будет по метрике евклидова расстояния:\n",
    "\n",
    "  $∑\\sqrt{i(test)^2-i(train)^2}$\n"
   ]
  },
  {
   "cell_type": "code",
   "execution_count": 2,
   "metadata": {
    "id": "uZT2Y0SjjHAn"
   },
   "outputs": [],
   "source": [
    "import random\n",
    "import numpy as np\n",
    "import matplotlib.pyplot as plt\n",
    "\n",
    "%matplotlib inline\n",
    "plt.rcParams['figure.figsize'] = (10.0, 8.0)\n",
    "plt.rcParams['image.interpolation'] = 'nearest'\n",
    "plt.rcParams['image.cmap'] = 'gray'"
   ]
  },
  {
   "cell_type": "markdown",
   "metadata": {
    "id": "P6DgHM7cjHAp"
   },
   "source": [
    "1.1 Скачайте данные в соответсвии с заданием.\n",
    "\n",
    "CIFAR-10 по ссылке https://www.cs.toronto.edu/~kriz/cifar.html\n",
    "или используйте  команду !bash get_datasets.sh (google colab, local ubuntu)\n",
    "\n",
    "MNIST\n",
    "sklearn.datasets import load_digits\n",
    "digits = load_digits()"
   ]
  },
  {
   "cell_type": "code",
   "execution_count": 3,
   "metadata": {
    "id": "fjYqU00qjHAp"
   },
   "outputs": [],
   "source": [
    "from sklearn.datasets import load_digits\n",
    "from sklearn.model_selection import train_test_split\n",
    "\n",
    "digits = load_digits()"
   ]
  },
  {
   "cell_type": "code",
   "execution_count": 4,
   "metadata": {},
   "outputs": [
    {
     "data": {
      "text/plain": [
       "(1797, 64)"
      ]
     },
     "execution_count": 4,
     "metadata": {},
     "output_type": "execute_result"
    }
   ],
   "source": [
    "digits.data.shape"
   ]
  },
  {
   "cell_type": "code",
   "execution_count": 5,
   "metadata": {},
   "outputs": [
    {
     "data": {
      "text/plain": [
       "(1797,)"
      ]
     },
     "execution_count": 5,
     "metadata": {},
     "output_type": "execute_result"
    }
   ],
   "source": [
    "digits.target.shape"
   ]
  },
  {
   "cell_type": "code",
   "execution_count": 6,
   "metadata": {
    "colab": {
     "base_uri": "https://localhost:8080/"
    },
    "id": "UPni131bjHAq",
    "outputId": "934d7331-1a6f-4c84-abd8-751997119070"
   },
   "outputs": [
    {
     "name": "stdout",
     "output_type": "stream",
     "text": [
      "Training data shape:  (1437, 64)\n",
      "Training labels shape:  (1437,)\n",
      "Test data shape:  (360, 64)\n",
      "Test labels shape:  (360,)\n"
     ]
    }
   ],
   "source": [
    "try:\n",
    "   del X_train, y_train\n",
    "   del X_test, y_test\n",
    "   print('Clear previously loaded data.')\n",
    "except:\n",
    "   pass\n",
    "\n",
    "X_train,X_test, y_train, y_test = train_test_split(digits.data, digits.target, test_size=0.2, random_state=2017)\n",
    "\n",
    "print('Training data shape: ', X_train.shape)\n",
    "print('Training labels shape: ', y_train.shape)\n",
    "print('Test data shape: ', X_test.shape)\n",
    "print('Test labels shape: ', y_test.shape)"
   ]
  },
  {
   "cell_type": "markdown",
   "metadata": {
    "id": "ybZ9TqjgjHAs"
   },
   "source": [
    "1.2 Выведите несколько примеров изображений из обучающей выборки для каждого класса.\n",
    "\n"
   ]
  },
  {
   "cell_type": "code",
   "execution_count": 7,
   "metadata": {
    "colab": {
     "base_uri": "https://localhost:8080/"
    },
    "id": "QvZbdhghr-aR",
    "outputId": "9c69e7ef-7cb4-4cbb-c1fb-0bf86bfdec8c"
   },
   "outputs": [
    {
     "data": {
      "text/plain": [
       "[0, 1, 2, 3, 4, 5, 6, 7, 8, 9]"
      ]
     },
     "execution_count": 7,
     "metadata": {},
     "output_type": "execute_result"
    }
   ],
   "source": [
    "classes = [i for i in range(10)]\n",
    "classes"
   ]
  },
  {
   "cell_type": "code",
   "execution_count": 8,
   "metadata": {},
   "outputs": [
    {
     "data": {
      "text/plain": [
       "<Figure size 72x108 with 0 Axes>"
      ]
     },
     "metadata": {},
     "output_type": "display_data"
    },
    {
     "data": {
      "image/png": "[encoded data removed]",
      "text/plain": [
       "<Figure size 288x288 with 1 Axes>"
      ]
     },
     "metadata": {
      "needs_background": "light"
     },
     "output_type": "display_data"
    },
    {
     "data": {
      "text/plain": [
       "<Figure size 72x108 with 0 Axes>"
      ]
     },
     "metadata": {},
     "output_type": "display_data"
    },
    {
     "data": {
      "image/png": "[encoded data removed]",
      "text/plain": [
       "<Figure size 288x288 with 1 Axes>"
      ]
     },
     "metadata": {
      "needs_background": "light"
     },
     "output_type": "display_data"
    },
    {
     "data": {
      "text/plain": [
       "<Figure size 72x108 with 0 Axes>"
      ]
     },
     "metadata": {},
     "output_type": "display_data"
    },
    {
     "data": {
      "image/png": "[encoded data removed]",
      "text/plain": [
       "<Figure size 288x288 with 1 Axes>"
      ]
     },
     "metadata": {
      "needs_background": "light"
     },
     "output_type": "display_data"
    },
    {
     "data": {
      "text/plain": [
       "<Figure size 72x108 with 0 Axes>"
      ]
     },
     "metadata": {},
     "output_type": "display_data"
    },
    {
     "data": {
      "image/png": "[encoded data removed]",
      "text/plain": [
       "<Figure size 288x288 with 1 Axes>"
      ]
     },
     "metadata": {
      "needs_background": "light"
     },
     "output_type": "display_data"
    },
    {
     "data": {
      "text/plain": [
       "<Figure size 72x108 with 0 Axes>"
      ]
     },
     "metadata": {},
     "output_type": "display_data"
    },
    {
     "data": {
      "image/png": "[encoded data removed]",
      "text/plain": [
       "<Figure size 288x288 with 1 Axes>"
      ]
     },
     "metadata": {
      "needs_background": "light"
     },
     "output_type": "display_data"
    },
    {
     "data": {
      "text/plain": [
       "<Figure size 72x108 with 0 Axes>"
      ]
     },
     "metadata": {},
     "output_type": "display_data"
    },
    {
     "data": {
      "image/png": "[encoded data removed]",
      "text/plain": [
       "<Figure size 288x288 with 1 Axes>"
      ]
     },
     "metadata": {
      "needs_background": "light"
     },
     "output_type": "display_data"
    },
    {
     "data": {
      "text/plain": [
       "<Figure size 72x108 with 0 Axes>"
      ]
     },
     "metadata": {},
     "output_type": "display_data"
    },
    {
     "data": {
      "image/png": "[encoded data removed]",
      "text/plain": [
       "<Figure size 288x288 with 1 Axes>"
      ]
     },
     "metadata": {
      "needs_background": "light"
     },
     "output_type": "display_data"
    },
    {
     "data": {
      "text/plain": [
       "<Figure size 72x108 with 0 Axes>"
      ]
     },
     "metadata": {},
     "output_type": "display_data"
    },
    {
     "data": {
      "image/png": "[encoded data removed]",
      "text/plain": [
       "<Figure size 288x288 with 1 Axes>"
      ]
     },
     "metadata": {
      "needs_background": "light"
     },
     "output_type": "display_data"
    },
    {
     "data": {
      "text/plain": [
       "<Figure size 72x108 with 0 Axes>"
      ]
     },
     "metadata": {},
     "output_type": "display_data"
    },
    {
     "data": {
      "image/png": "[encoded data removed]",
      "text/plain": [
       "<Figure size 288x288 with 1 Axes>"
      ]
     },
     "metadata": {
      "needs_background": "light"
     },
     "output_type": "display_data"
    },
    {
     "data": {
      "text/plain": [
       "<Figure size 72x108 with 0 Axes>"
      ]
     },
     "metadata": {},
     "output_type": "display_data"
    },
    {
     "data": {
      "image/png": "[encoded data removed]",
      "text/plain": [
       "<Figure size 288x288 with 1 Axes>"
      ]
     },
     "metadata": {
      "needs_background": "light"
     },
     "output_type": "display_data"
    },
    {
     "data": {
      "text/plain": [
       "<Figure size 72x108 with 0 Axes>"
      ]
     },
     "metadata": {},
     "output_type": "display_data"
    },
    {
     "data": {
      "image/png": "[encoded data removed]",
      "text/plain": [
       "<Figure size 288x288 with 1 Axes>"
      ]
     },
     "metadata": {
      "needs_background": "light"
     },
     "output_type": "display_data"
    },
    {
     "data": {
      "text/plain": [
       "<Figure size 72x108 with 0 Axes>"
      ]
     },
     "metadata": {},
     "output_type": "display_data"
    },
    {
     "data": {
      "image/png": "[encoded data removed]",
      "text/plain": [
       "<Figure size 288x288 with 1 Axes>"
      ]
     },
     "metadata": {
      "needs_background": "light"
     },
     "output_type": "display_data"
    },
    {
     "data": {
      "text/plain": [
       "<Figure size 72x108 with 0 Axes>"
      ]
     },
     "metadata": {},
     "output_type": "display_data"
    },
    {
     "data": {
      "image/png": "[encoded data removed]",
      "text/plain": [
       "<Figure size 288x288 with 1 Axes>"
      ]
     },
     "metadata": {
      "needs_background": "light"
     },
     "output_type": "display_data"
    },
    {
     "data": {
      "text/plain": [
       "<Figure size 72x108 with 0 Axes>"
      ]
     },
     "metadata": {},
     "output_type": "display_data"
    },
    {
     "data": {
      "image/png": "[encoded data removed]",
      "text/plain": [
       "<Figure size 288x288 with 1 Axes>"
      ]
     },
     "metadata": {
      "needs_background": "light"
     },
     "output_type": "display_data"
    },
    {
     "data": {
      "text/plain": [
       "<Figure size 72x108 with 0 Axes>"
      ]
     },
     "metadata": {},
     "output_type": "display_data"
    },
    {
     "data": {
      "image/png": "[encoded data removed]",
      "text/plain": [
       "<Figure size 288x288 with 1 Axes>"
      ]
     },
     "metadata": {
      "needs_background": "light"
     },
     "output_type": "display_data"
    },
    {
     "data": {
      "text/plain": [
       "<Figure size 72x108 with 0 Axes>"
      ]
     },
     "metadata": {},
     "output_type": "display_data"
    },
    {
     "data": {
      "image/png": "[encoded data removed]",
      "text/plain": [
       "<Figure size 288x288 with 1 Axes>"
      ]
     },
     "metadata": {
      "needs_background": "light"
     },
     "output_type": "display_data"
    },
    {
     "data": {
      "text/plain": [
       "<Figure size 72x108 with 0 Axes>"
      ]
     },
     "metadata": {},
     "output_type": "display_data"
    },
    {
     "data": {
      "image/png": "[encoded data removed]",
      "text/plain": [
       "<Figure size 288x288 with 1 Axes>"
      ]
     },
     "metadata": {
      "needs_background": "light"
     },
     "output_type": "display_data"
    },
    {
     "data": {
      "text/plain": [
       "<Figure size 72x108 with 0 Axes>"
      ]
     },
     "metadata": {},
     "output_type": "display_data"
    },
    {
     "data": {
      "image/png": "[encoded data removed]",
      "text/plain": [
       "<Figure size 288x288 with 1 Axes>"
      ]
     },
     "metadata": {
      "needs_background": "light"
     },
     "output_type": "display_data"
    },
    {
     "data": {
      "text/plain": [
       "<Figure size 72x108 with 0 Axes>"
      ]
     },
     "metadata": {},
     "output_type": "display_data"
    },
    {
     "data": {
      "image/png": "[encoded data removed]",
      "text/plain": [
       "<Figure size 288x288 with 1 Axes>"
      ]
     },
     "metadata": {
      "needs_background": "light"
     },
     "output_type": "display_data"
    },
    {
     "data": {
      "text/plain": [
       "<Figure size 72x108 with 0 Axes>"
      ]
     },
     "metadata": {},
     "output_type": "display_data"
    },
    {
     "data": {
      "image/png": "[encoded data removed]",
      "text/plain": [
       "<Figure size 288x288 with 1 Axes>"
      ]
     },
     "metadata": {
      "needs_background": "light"
     },
     "output_type": "display_data"
    }
   ],
   "source": [
    "plt.rcParams[\"figure.figsize\"] = (1,1.5)\n",
    "for i in range(20):\n",
    "    plt.gray()\n",
    "    plt.matshow(digits.images[i])\n",
    "    plt.show()"
   ]
  },
  {
   "cell_type": "markdown",
   "metadata": {
    "id": "vAV3T9LSjHAu"
   },
   "source": [
    "1.3 Разделите данные на обучающу и тестовую выборки (X_train, y_train, X_test, y_test). Преобразуйте каждое изображение в одномерный массив."
   ]
  },
  {
   "cell_type": "code",
   "execution_count": 9,
   "metadata": {
    "colab": {
     "base_uri": "https://localhost:8080/"
    },
    "id": "P9etdZd0jHAv",
    "outputId": "22fbde18-e34b-4b67-f792-f977f68de362"
   },
   "outputs": [
    {
     "name": "stdout",
     "output_type": "stream",
     "text": [
      "(1437, 64) (360, 64) (1437,)\n"
     ]
    }
   ],
   "source": [
    "X_train = np.reshape(X_train, (X_train.shape[0], -1))\n",
    "X_test = np.reshape(X_test, (X_test.shape[0], -1))\n",
    "print( X_train.shape, X_test.shape, y_train.shape)"
   ]
  },
  {
   "cell_type": "markdown",
   "metadata": {
    "id": "V6vihCfajHAv"
   },
   "source": [
    "1.4 Напишите реализацию классификатора в скрипте /classifiers/k_nearest_neighbor.py и обучите его на сформированной выборке."
   ]
  },
  {
   "cell_type": "code",
   "execution_count": 10,
   "metadata": {
    "colab": {
     "base_uri": "https://localhost:8080/",
     "height": 367
    },
    "id": "NZchJnOFjHAv",
    "outputId": "01f716ef-0411-461b-d063-34bd2aae8009"
   },
   "outputs": [],
   "source": [
    "from scripts.classifiers import KNearestNeighbor\n",
    "classifier = KNearestNeighbor()\n",
    "classifier.train(X_train, y_train)"
   ]
  },
  {
   "cell_type": "markdown",
   "metadata": {
    "id": "15wjcia9jHAw"
   },
   "source": [
    "1.5 Выполните классификацию на тестовой выборке"
   ]
  },
  {
   "cell_type": "code",
   "execution_count": 11,
   "metadata": {
    "id": "yhviQpPqjHAw"
   },
   "outputs": [],
   "source": [
    "y_test_pred = classifier.predict(X_test, num_loops=1)"
   ]
  },
  {
   "cell_type": "markdown",
   "metadata": {
    "id": "NpF7qpJhjHAx"
   },
   "source": [
    "1.6 Визуализируйте матрицу расстояний для каждого изображения из тестовой выборки до изображений из обучающей выборки.\n"
   ]
  },
  {
   "cell_type": "code",
   "execution_count": 12,
   "metadata": {
    "id": "AQYCRwmcjHAx"
   },
   "outputs": [
    {
     "data": {
      "text/plain": [
       "(360, 1437)"
      ]
     },
     "execution_count": 12,
     "metadata": {},
     "output_type": "execute_result"
    }
   ],
   "source": [
    "dists = classifier.compute_distances_two_loops(X_test)\n",
    "dists.shape"
   ]
  },
  {
   "cell_type": "code",
   "execution_count": 36,
   "metadata": {},
   "outputs": [
    {
     "data": {
      "image/png": "[encoded data removed]",
      "text/plain": [
       "<Figure size 720x216 with 2 Axes>"
      ]
     },
     "metadata": {
      "needs_background": "light"
     },
     "output_type": "display_data"
    }
   ],
   "source": [
    "plt.rcParams[\"figure.figsize\"] = (10,3)\n",
    "plt.imshow(dists, interpolation='none')\n",
    "plt.colorbar()\n",
    "plt.show()"
   ]
  },
  {
   "cell_type": "markdown",
   "metadata": {
    "id": "nRCMhslGjHAx"
   },
   "source": [
    "\n",
    "1.7 Посчитайте долю правильно классифицированных изображений из тестовой выборки.\n"
   ]
  },
  {
   "cell_type": "code",
   "execution_count": 14,
   "metadata": {},
   "outputs": [
    {
     "data": {
      "text/plain": [
       "360"
      ]
     },
     "execution_count": 14,
     "metadata": {},
     "output_type": "execute_result"
    }
   ],
   "source": [
    "num_test = y_test_pred.shape[0]\n",
    "num_test"
   ]
  },
  {
   "cell_type": "code",
   "execution_count": 15,
   "metadata": {
    "id": "eIjO1-i3jHAz"
   },
   "outputs": [
    {
     "name": "stdout",
     "output_type": "stream",
     "text": [
      "Корректно 354 / 360 => точность: 0.983333\n"
     ]
    }
   ],
   "source": [
    "num_correct = np.sum(y_test_pred == y_test)\n",
    "accuracy = float(num_correct) / num_test\n",
    "print ('Корректно %d / %d => точность: %f' % (num_correct, num_test, accuracy))"
   ]
  },
  {
   "cell_type": "markdown",
   "metadata": {
    "id": "yG5ROkGGjHAz"
   },
   "source": [
    "1.8 Постройте график зависимости доли правильно классифицированных изображений от числа соседей, используемых при классификации."
   ]
  },
  {
   "cell_type": "code",
   "execution_count": 16,
   "metadata": {
    "id": "_6UI3uTJjHA0"
   },
   "outputs": [
    {
     "name": "stdout",
     "output_type": "stream",
     "text": [
      "k = 1, accuracy = 0.993056\n",
      "k = 1, accuracy = 0.975694\n",
      "k = 1, accuracy = 0.993031\n",
      "k = 1, accuracy = 0.982578\n",
      "k = 1, accuracy = 0.993031\n",
      "k = 3, accuracy = 0.989583\n",
      "k = 3, accuracy = 0.982639\n",
      "k = 3, accuracy = 0.986063\n",
      "k = 3, accuracy = 0.982578\n",
      "k = 3, accuracy = 0.993031\n",
      "k = 5, accuracy = 0.989583\n",
      "k = 5, accuracy = 0.979167\n",
      "k = 5, accuracy = 0.982578\n",
      "k = 5, accuracy = 0.975610\n",
      "k = 5, accuracy = 0.989547\n",
      "k = 8, accuracy = 0.993056\n",
      "k = 8, accuracy = 0.975694\n",
      "k = 8, accuracy = 0.982578\n",
      "k = 8, accuracy = 0.975610\n",
      "k = 8, accuracy = 0.979094\n",
      "k = 10, accuracy = 0.993056\n",
      "k = 10, accuracy = 0.968750\n",
      "k = 10, accuracy = 0.975610\n",
      "k = 10, accuracy = 0.965157\n",
      "k = 10, accuracy = 0.982578\n",
      "k = 12, accuracy = 0.989583\n",
      "k = 12, accuracy = 0.968750\n",
      "k = 12, accuracy = 0.982578\n",
      "k = 12, accuracy = 0.958188\n",
      "k = 12, accuracy = 0.972125\n",
      "k = 15, accuracy = 0.979167\n",
      "k = 15, accuracy = 0.968750\n",
      "k = 15, accuracy = 0.979094\n",
      "k = 15, accuracy = 0.947735\n",
      "k = 15, accuracy = 0.972125\n",
      "k = 20, accuracy = 0.968750\n",
      "k = 20, accuracy = 0.968750\n",
      "k = 20, accuracy = 0.965157\n",
      "k = 20, accuracy = 0.937282\n",
      "k = 20, accuracy = 0.968641\n",
      "k = 50, accuracy = 0.951389\n",
      "k = 50, accuracy = 0.944444\n",
      "k = 50, accuracy = 0.933798\n",
      "k = 50, accuracy = 0.926829\n",
      "k = 50, accuracy = 0.923345\n"
     ]
    }
   ],
   "source": [
    "num_folds = 5\n",
    "k_choices = [1, 3, 5, 8, 10, 12, 15, 20, 50]\n",
    "\n",
    "X_train_folds = []\n",
    "y_train_folds = []\n",
    "\n",
    "X_train_folds = np.array_split(X_train, num_folds)\n",
    "y_train_folds = np.array_split(y_train, num_folds)\n",
    "\n",
    "k_to_accuracies = {}\n",
    "\n",
    "for k in k_choices:\n",
    "    k_to_accuracies[k] = []\n",
    "    for fold in range(0, len(y_train_folds)):\n",
    "        fold_train_X = X_train_folds[:]\n",
    "        fold_train_y = y_train_folds[:]\n",
    "\n",
    "        fold_test_X = fold_train_X[fold]\n",
    "        fold_test_y = fold_train_y[fold]\n",
    "        fold_train_X = np.vstack(fold_train_X[0:fold]+fold_train_X[fold+1:num_folds])\n",
    "        fold_train_y = np.hstack(fold_train_y[0:fold]+fold_train_y[fold+1:num_folds])\n",
    "        \n",
    "        classifier = KNearestNeighbor()\n",
    "        classifier.train(fold_train_X, fold_train_y)\n",
    "        \n",
    "        fold_test_y_pred = classifier.predict(fold_test_X, k=k)\n",
    "        accuracy = float(np.sum(fold_test_y_pred == fold_test_y)) / len(fold_test_y_pred)\n",
    "        k_to_accuracies[k].append(accuracy)\n",
    "        \n",
    "for k in sorted(k_to_accuracies):\n",
    "    for accuracy in k_to_accuracies[k]:\n",
    "        print('k = %d, accuracy = %f' % (k, accuracy))\n"
   ]
  },
  {
   "cell_type": "code",
   "execution_count": 17,
   "metadata": {},
   "outputs": [
    {
     "data": {
      "image/png": "[encoded data removed]",
      "text/plain": [
       "<Figure size 720x216 with 1 Axes>"
      ]
     },
     "metadata": {
      "needs_background": "light"
     },
     "output_type": "display_data"
    }
   ],
   "source": [
    "for k in k_choices:\n",
    "  accuracies = k_to_accuracies[k]\n",
    "  plt.scatter([k] * len(accuracies), accuracies)\n",
    "\n",
    "accuracies_mean = np.array([np.mean(v) for k,v in sorted(k_to_accuracies.items())])\n",
    "accuracies_std = np.array([np.std(v) for k,v in sorted(k_to_accuracies.items())])\n",
    "plt.errorbar(k_choices, accuracies_mean, yerr=accuracies_std)\n",
    "plt.title('k')\n",
    "plt.xlabel('k')\n",
    "plt.ylabel('Точность')\n",
    "plt.show()"
   ]
  },
  {
   "cell_type": "markdown",
   "metadata": {
    "id": "Ky_Pgnb3jHA0"
   },
   "source": [
    "1.9 Выберите лучшее значение параметра k на основе кросс-валидации.\n"
   ]
  },
  {
   "cell_type": "markdown",
   "metadata": {
    "id": "RtSHj4onjHA0"
   },
   "source": [
    "Лучшее значение параметра k = 1"
   ]
  },
  {
   "cell_type": "markdown",
   "metadata": {
    "id": "VxTeuN4sjHA1"
   },
   "source": [
    "\n",
    "1.10 Переобучите и протестируйте классификатор с использованием выбранного значения k.\n",
    "\n"
   ]
  },
  {
   "cell_type": "code",
   "execution_count": 18,
   "metadata": {
    "id": "EH6Hj6XIjHA1"
   },
   "outputs": [
    {
     "data": {
      "text/plain": [
       "(354, 360, 0.9833333333333333)"
      ]
     },
     "execution_count": 18,
     "metadata": {},
     "output_type": "execute_result"
    }
   ],
   "source": [
    "best_k = 1\n",
    "\n",
    "classifier = KNearestNeighbor()\n",
    "classifier.train(X_train, y_train)\n",
    "y_test_pred = classifier.predict(X_test, k=best_k)\n",
    "\n",
    "# Compute and display the accuracy\n",
    "num_correct = np.sum(y_test_pred == y_test)\n",
    "accuracy = float(num_correct) / num_test\n",
    "num_correct, num_test, accuracy"
   ]
  },
  {
   "cell_type": "markdown",
   "metadata": {
    "id": "32vwFNnkjHA1"
   },
   "source": [
    "1.11 Сделайте выводы по результатам 1 части задания."
   ]
  },
  {
   "cell_type": "markdown",
   "metadata": {},
   "source": [
    "Так как MNIST простой набор данных состоящий из цифр в оттенках серего подобный подход дает высокий показатель точности, что невозможно было бы наблюдать на цветных и более сложных изображениях"
   ]
  },
  {
   "cell_type": "markdown",
   "metadata": {
    "id": "IU1tDHZOjHA9"
   },
   "source": [
    "## 3.  Построение softmax-классификатора"
   ]
  },
  {
   "cell_type": "markdown",
   "metadata": {},
   "source": [
    "Softmax-классификатор возвращает вероятности того, что объект принадлежит классу и интерпритируем с точки зрения теории вероятности. \n",
    "Предсказанное значение вычисляется через $f(x_i;W)=Wx_i$, но теперь интерпретируется как логистические вероятности для каждого класса.\n",
    "\n",
    "Функция потерь вычиляется как:\n",
    "$L_i=−log(e^{f_{y_i}}/∑_j e^{f_j})$ или $L_i = −f_{y_i} + log(∑_j e^{f_j})$\n",
    "\n",
    "Для всего датасета $L = mean(L_i)+R(W)$, где R(W) - регулялизация.\n",
    "Функция $f_j(z)=e^{z_j}/(∑_ke^{z_k})$ softmax"
   ]
  },
  {
   "cell_type": "markdown",
   "metadata": {
    "id": "NSJ41k8VjHA9"
   },
   "source": [
    "3.1 Разделите данные на обучающую, тестовую и валидационную выборки. Преобразуйте каждое изображение в одномерный массив. Выведите размеры выборок."
   ]
  },
  {
   "cell_type": "code",
   "execution_count": 19,
   "metadata": {
    "id": "FSZ3ZQNWjHA-"
   },
   "outputs": [],
   "source": [
    "X_train,X_test, y_train, y_test = train_test_split(digits.data, digits.target, test_size=0.2, random_state=2017)\n",
    "X_train, X_dev, y_train, y_dev = train_test_split(X_train, y_train, test_size=0.1, random_state=2017)"
   ]
  },
  {
   "cell_type": "code",
   "execution_count": 20,
   "metadata": {},
   "outputs": [
    {
     "name": "stdout",
     "output_type": "stream",
     "text": [
      "(1293, 64) (360, 64) (1293,)\n"
     ]
    }
   ],
   "source": [
    "X_train = np.reshape(X_train, (X_train.shape[0], -1))\n",
    "X_test = np.reshape(X_test, (X_test.shape[0], -1))\n",
    "print( X_train.shape, X_test.shape, y_train.shape)"
   ]
  },
  {
   "cell_type": "markdown",
   "metadata": {
    "id": "de5rxXvdjHA-"
   },
   "source": [
    "3.2 Проведите предварительную обработку данных, путем вычитания среднего изображения, рассчитанного  по обучающей выборке.\n",
    "\n",
    "3.3 Чтобы далее не учитывать смещение (свободный член b), добавьте дополнитульную размерность к массиву данных и заполните ее единицами."
   ]
  },
  {
   "cell_type": "code",
   "execution_count": 21,
   "metadata": {
    "id": "2zo0gxx5jHA-"
   },
   "outputs": [
    {
     "name": "stdout",
     "output_type": "stream",
     "text": [
      "[0.00000000e+00 2.70688322e-01 5.13302398e+00 1.17486466e+01\n",
      " 1.18399072e+01 5.73936582e+00 1.35112142e+00 1.41531323e-01\n",
      " 6.96055684e-03 1.87780356e+00]\n",
      "(1293, 65) (144, 65) (360, 65)\n"
     ]
    }
   ],
   "source": [
    "mean_image = np.mean(X_train, axis=0)\n",
    "print(mean_image[:10])\n",
    "\n",
    "X_train -= mean_image\n",
    "X_dev -= mean_image\n",
    "X_test -= mean_image\n",
    "\n",
    "X_train = np.hstack([X_train, np.ones((X_train.shape[0], 1))])\n",
    "X_dev = np.hstack([X_dev, np.ones((X_dev.shape[0], 1))])\n",
    "X_test = np.hstack([X_test, np.ones((X_test.shape[0], 1))])\n",
    "\n",
    "print(X_train.shape, X_dev.shape, X_test.shape)"
   ]
  },
  {
   "cell_type": "markdown",
   "metadata": {
    "id": "i_Eoh73WjHA_"
   },
   "source": [
    "3.4 Реализуйте функции в classifiers/softmax.py\n",
    "\n",
    "\n"
   ]
  },
  {
   "cell_type": "code",
   "execution_count": 22,
   "metadata": {},
   "outputs": [
    {
     "data": {
      "text/plain": [
       "(144, 65)"
      ]
     },
     "execution_count": 22,
     "metadata": {},
     "output_type": "execute_result"
    }
   ],
   "source": [
    "X_dev.shape"
   ]
  },
  {
   "cell_type": "code",
   "execution_count": 23,
   "metadata": {},
   "outputs": [
    {
     "data": {
      "text/plain": [
       "(144,)"
      ]
     },
     "execution_count": 23,
     "metadata": {},
     "output_type": "execute_result"
    }
   ],
   "source": [
    "y_dev.shape"
   ]
  },
  {
   "cell_type": "code",
   "execution_count": 24,
   "metadata": {
    "id": "HJNpWY4EjHA_"
   },
   "outputs": [
    {
     "name": "stdout",
     "output_type": "stream",
     "text": [
      "loss: 2.301734\n",
      "sanity check: 2.302585\n"
     ]
    }
   ],
   "source": [
    "from scripts.classifiers.softmax import softmax_loss_naive\n",
    "import time\n",
    "\n",
    "# Generate a random softmax weight matrix and use it to compute the loss.\n",
    "W = np.random.randn(X_dev.shape[1], 10) * 0.0001\n",
    "loss, grad = softmax_loss_naive(W, X_dev, y_dev, 0.0)\n",
    "\n",
    "# As a rough sanity check, our loss should be something close to -log(0.1).\n",
    "print('loss: %f' % loss)\n",
    "print('sanity check: %f' % (-np.log(0.1)))"
   ]
  },
  {
   "cell_type": "markdown",
   "metadata": {
    "id": "cZq9_WEVjHA_"
   },
   "source": [
    "3.5 Убедитесь, что вы верно реализовали расчет градиента, сравнив с реализацией численными методами (код приведен ниже)."
   ]
  },
  {
   "cell_type": "code",
   "execution_count": 25,
   "metadata": {
    "id": "vd3mWPFAjHBA"
   },
   "outputs": [
    {
     "name": "stdout",
     "output_type": "stream",
     "text": [
      "numerical: -0.027494 analytic: -0.027494, relative error: 1.181407e-09\n",
      "numerical: 0.540981 analytic: 0.540981, relative error: 1.549873e-10\n",
      "numerical: 0.000056 analytic: 0.000056, relative error: 4.232343e-07\n",
      "numerical: -0.371134 analytic: -0.371134, relative error: 9.288745e-11\n",
      "numerical: 0.558618 analytic: 0.558618, relative error: 6.241085e-11\n",
      "numerical: -0.295373 analytic: -0.295373, relative error: 1.256820e-10\n",
      "numerical: -0.595448 analytic: -0.595448, relative error: 6.882829e-11\n",
      "numerical: 0.026373 analytic: 0.026373, relative error: 1.914120e-09\n",
      "numerical: -0.000024 analytic: -0.000024, relative error: 9.606394e-08\n",
      "numerical: 0.602895 analytic: 0.602895, relative error: 4.429696e-11\n",
      "numerical: -0.000808 analytic: 0.001719, relative error: 1.000000e+00\n",
      "numerical: -0.088977 analytic: -0.096306, relative error: 3.955960e-02\n",
      "numerical: 0.258696 analytic: 0.247788, relative error: 2.153734e-02\n",
      "numerical: 0.061862 analytic: 0.071907, relative error: 7.509251e-02\n",
      "numerical: 0.444604 analytic: 0.456719, relative error: 1.344112e-02\n",
      "numerical: 0.000280 analytic: 0.000339, relative error: 9.594512e-02\n",
      "numerical: -0.366890 analytic: -0.359682, relative error: 9.921585e-03\n",
      "numerical: -0.372199 analytic: -0.370489, relative error: 2.303034e-03\n",
      "numerical: 0.096619 analytic: 0.084117, relative error: 6.917267e-02\n",
      "numerical: 0.246466 analytic: 0.239475, relative error: 1.438570e-02\n"
     ]
    }
   ],
   "source": [
    "loss, grad = softmax_loss_naive(W, X_dev, y_dev, 0.0)\n",
    "\n",
    "\n",
    "from scripts.gradient_check import grad_check_sparse\n",
    "f = lambda w: softmax_loss_naive(w, X_dev, y_dev, 0.0)[0]\n",
    "grad_numerical = grad_check_sparse(f, W, grad, 10)\n",
    "\n",
    "\n",
    "loss, grad = softmax_loss_naive(W, X_dev, y_dev, 5e1)\n",
    "f = lambda w: softmax_loss_naive(w, X_dev, y_dev, 5e1)[0]\n",
    "grad_numerical = grad_check_sparse(f, W, grad, 10)"
   ]
  },
  {
   "cell_type": "markdown",
   "metadata": {
    "id": "v5eVs1drjHBA"
   },
   "source": [
    "3.6 Сравните softmax_loss_naive и softmax_loss_vectorized реализации"
   ]
  },
  {
   "cell_type": "code",
   "execution_count": 26,
   "metadata": {
    "id": "9d1fMjCXjHBB"
   },
   "outputs": [
    {
     "name": "stdout",
     "output_type": "stream",
     "text": [
      "naive loss: 2.301734e+00 computed in 0.043018s\n",
      "vectorized loss: 2.301734e+00 computed in 0.000998s\n",
      "Loss difference: 0.000000\n",
      "Gradient difference: 0.000000\n"
     ]
    }
   ],
   "source": [
    "tic = time.time()\n",
    "loss_naive, grad_naive = softmax_loss_naive(W, X_dev, y_dev, 0.000005)\n",
    "toc = time.time()\n",
    "print('naive loss: %e computed in %fs' % (loss_naive, toc - tic))\n",
    "\n",
    "from scripts.classifiers.softmax import softmax_loss_vectorized\n",
    "tic = time.time()\n",
    "loss_vectorized, grad_vectorized = softmax_loss_vectorized(W, X_dev, y_dev, 0.000005)\n",
    "toc = time.time()\n",
    "print('vectorized loss: %e computed in %fs' % (loss_vectorized, toc - tic))\n",
    "\n",
    "\n",
    "grad_difference = np.linalg.norm(grad_naive - grad_vectorized, ord='fro')\n",
    "print('Loss difference: %f' % np.abs(loss_naive - loss_vectorized))\n",
    "print('Gradient difference: %f' % grad_difference)"
   ]
  },
  {
   "cell_type": "markdown",
   "metadata": {
    "id": "AXqcVYxDjHBB"
   },
   "source": [
    "3.7 Реализуйте стохастический градиентный спуск в /classifiers/linear_classifier.py . Реализуйте методы train() и predict() и запустите следующий код\n",
    "\n",
    "3.8 Обучите Softmax-классификатор и оцените accuracy на тестовой выборке."
   ]
  },
  {
   "cell_type": "code",
   "execution_count": 27,
   "metadata": {},
   "outputs": [
    {
     "data": {
      "text/plain": [
       "(1293, (1293,))"
      ]
     },
     "execution_count": 27,
     "metadata": {},
     "output_type": "execute_result"
    }
   ],
   "source": [
    "X_train.shape[0], y_train.shape"
   ]
  },
  {
   "cell_type": "code",
   "execution_count": 28,
   "metadata": {},
   "outputs": [
    {
     "name": "stdout",
     "output_type": "stream",
     "text": [
      "iteration 0 / 1500: loss 15.942985\n",
      "iteration 100 / 1500: loss 7.310546\n",
      "iteration 200 / 1500: loss 4.138838\n",
      "iteration 300 / 1500: loss 2.976408\n",
      "iteration 400 / 1500: loss 2.549319\n",
      "iteration 500 / 1500: loss 2.393002\n",
      "iteration 600 / 1500: loss 2.335570\n",
      "iteration 700 / 1500: loss 2.314188\n",
      "iteration 800 / 1500: loss 2.306561\n",
      "iteration 900 / 1500: loss 2.303696\n",
      "iteration 1000 / 1500: loss 2.302683\n",
      "iteration 1100 / 1500: loss 2.302326\n",
      "iteration 1200 / 1500: loss 2.302143\n",
      "iteration 1300 / 1500: loss 2.302102\n",
      "iteration 1400 / 1500: loss 2.302110\n",
      "That took 0.988074s\n"
     ]
    }
   ],
   "source": [
    "from scripts.classifiers import Softmax\n",
    "sm = Softmax()\n",
    "tic = time.time()\n",
    "loss_hist = sm.train(X_train, y_train, learning_rate=1e-7, reg=2.5e4,\n",
    "                      num_iters=1500, verbose=True)\n",
    "toc = time.time()\n",
    "print('That took %fs' % (toc - tic))"
   ]
  },
  {
   "cell_type": "code",
   "execution_count": 29,
   "metadata": {},
   "outputs": [
    {
     "name": "stdout",
     "output_type": "stream",
     "text": [
      "training accuracy: 0.856922\n",
      "validation accuracy: 0.881944\n"
     ]
    }
   ],
   "source": [
    "y_train_pred = sm.predict(X_train)\n",
    "print('training accuracy: %f' % (np.mean(y_train == y_train_pred), ))\n",
    "y_val_pred = sm.predict(X_dev)\n",
    "print('validation accuracy: %f' % (np.mean(y_dev == y_val_pred), ))"
   ]
  },
  {
   "cell_type": "markdown",
   "metadata": {
    "id": "nH5SJ5SKjHBB"
   },
   "source": [
    "3.9 С помощью кросс-валидации выберите значения параметров скорости обучения и регуляризации. В кросс-валидации используйте обучающую и валидационную выборки. Оцените accuracy на тестовой выборке."
   ]
  },
  {
   "cell_type": "code",
   "execution_count": 30,
   "metadata": {
    "id": "WY2avyJ_jHBC"
   },
   "outputs": [],
   "source": [
    "learning_rates = [1e-7, 5e-5]\n",
    "regularization_strengths = [2.5e4, 5e4]"
   ]
  },
  {
   "cell_type": "code",
   "execution_count": 31,
   "metadata": {},
   "outputs": [],
   "source": [
    "results = {}\n",
    "best_val = -1\n",
    "best_softmax = None\n",
    "best_lr = -1;\n",
    "best_r = -1;"
   ]
  },
  {
   "cell_type": "code",
   "execution_count": 32,
   "metadata": {},
   "outputs": [
    {
     "name": "stdout",
     "output_type": "stream",
     "text": [
      "lr: 0.0000001, reg: 25000.0\n",
      "train accuracy: 0.8592\n",
      "validation accuracy: 0.8611\n",
      "lr: 0.0000001, reg: 50000.0\n",
      "train accuracy: 0.8577\n",
      "validation accuracy: 0.8750\n",
      "lr: 0.0000500, reg: 25000.0\n"
     ]
    },
    {
     "name": "stderr",
     "output_type": "stream",
     "text": [
      "C:\\Users\\Dell\\Desktop\\3 курс\\СИИ\\Zhuk_LR1_DL_V4\\scripts\\classifiers\\softmax.py:93: RuntimeWarning: overflow encountered in double_scalars\n",
      "  loss += reg * np.sum(W*W)\n",
      "C:\\Users\\Dell\\anaconda3\\lib\\site-packages\\numpy\\core\\fromnumeric.py:87: RuntimeWarning: overflow encountered in reduce\n",
      "  return ufunc.reduce(obj, axis, dtype, out, **passkwargs)\n",
      "C:\\Users\\Dell\\Desktop\\3 курс\\СИИ\\Zhuk_LR1_DL_V4\\scripts\\classifiers\\softmax.py:93: RuntimeWarning: overflow encountered in multiply\n",
      "  loss += reg * np.sum(W*W)\n"
     ]
    },
    {
     "name": "stdout",
     "output_type": "stream",
     "text": [
      "train accuracy: 0.1121\n",
      "validation accuracy: 0.1389\n",
      "lr: 0.0000500, reg: 50000.0\n"
     ]
    },
    {
     "name": "stderr",
     "output_type": "stream",
     "text": [
      "C:\\Users\\Dell\\Desktop\\3 курс\\СИИ\\Zhuk_LR1_DL_V4\\scripts\\classifiers\\softmax.py:101: RuntimeWarning: overflow encountered in multiply\n",
      "  dW += 2 * reg * W\n",
      "C:\\Users\\Dell\\anaconda3\\lib\\site-packages\\numpy\\core\\_methods.py:47: RuntimeWarning: invalid value encountered in reduce\n",
      "  return umr_sum(a, axis, dtype, out, keepdims, initial, where)\n"
     ]
    },
    {
     "name": "stdout",
     "output_type": "stream",
     "text": [
      "train accuracy: 0.0998\n",
      "validation accuracy: 0.1042\n"
     ]
    }
   ],
   "source": [
    "def compute_accuracy(y, y_pred):\n",
    "    return np.mean(y == y_pred)\n",
    "\n",
    "\n",
    "for lr in learning_rates:\n",
    "    for reg in regularization_strengths:\n",
    "        print( \"lr: %.7f, reg: %.1f\" %(lr, reg))\n",
    "        model = Softmax()\n",
    "        model.train(X_train, y_train, learning_rate=lr, reg=reg, num_iters=1500, verbose=False)\n",
    "\n",
    "        train_accuracy = compute_accuracy(y_train, model.predict(X_train))\n",
    "        val_accuracy = compute_accuracy(y_dev, model.predict(X_dev))\n",
    "        print ('train accuracy: %.4f' %train_accuracy)\n",
    "        print ('validation accuracy: %.4f' %val_accuracy)\n",
    "\n",
    "        results[(lr, reg)] = (train_accuracy, val_accuracy)\n",
    "\n",
    "        if val_accuracy > best_val:\n",
    "            best_lr = lr\n",
    "            best_r = reg\n",
    "            best_val = val_accuracy\n",
    "            best_softmax = model"
   ]
  },
  {
   "cell_type": "code",
   "execution_count": 33,
   "metadata": {},
   "outputs": [
    {
     "data": {
      "text/plain": [
       "(1e-07, 50000.0)"
      ]
     },
     "execution_count": 33,
     "metadata": {},
     "output_type": "execute_result"
    }
   ],
   "source": [
    "best_lr, best_r"
   ]
  },
  {
   "cell_type": "code",
   "execution_count": 35,
   "metadata": {},
   "outputs": [
    {
     "data": {
      "text/plain": [
       "0.8888888888888888"
      ]
     },
     "execution_count": 35,
     "metadata": {},
     "output_type": "execute_result"
    }
   ],
   "source": [
    "model = Softmax()\n",
    "model.train(X_train, y_train, learning_rate=1e-7, reg=5e4, num_iters=1500, verbose=False)\n",
    "y_test_pred = model.predict(X_test)\n",
    "compute_accuracy(y_test, y_test_pred)"
   ]
  },
  {
   "cell_type": "markdown",
   "metadata": {
    "id": "0yvpRuD8jHBD"
   },
   "source": [
    "3.10 Сделайте выводы по третьей части задания"
   ]
  },
  {
   "cell_type": "markdown",
   "metadata": {
    "id": "_knByPHZjHBD"
   },
   "source": [
    "Softmax выдает хорошие результаты, но хуже чем knn. Это происодит поскольку шаблоны реализуемые softmax не отличаются достаточно точностью. "
   ]
  },
  {
   "cell_type": "code",
   "execution_count": 37,
   "metadata": {},
   "outputs": [
    {
     "data": {
      "image/png": "[encoded data removed]",
      "text/plain": [
       "<Figure size 720x216 with 10 Axes>"
      ]
     },
     "metadata": {
      "needs_background": "light"
     },
     "output_type": "display_data"
    }
   ],
   "source": [
    "w = best_softmax.W[:-1,:] # strip out the bias\n",
    "w = w.reshape(8, 8, 10)\n",
    "w_min, w_max = np.min(w), np.max(w)\n",
    "classes = [i for i in range(0, 10)]\n",
    "for i in range(10):\n",
    "    plt.subplot(2, 5, i + 1)\n",
    "\n",
    "    # Rescale the weights to be between 0 and 255\n",
    "    wimg = 255.0 * (w[:, :, i].squeeze() - w_min) / (w_max - w_min)\n",
    "    plt.imshow(wimg.astype('uint8'))\n",
    "    plt.axis('off')\n",
    "    plt.title(classes[i])"
   ]
  }
 ],
 "metadata": {
  "colab": {
   "provenance": []
  },
  "kernelspec": {
   "display_name": "Python 3 (ipykernel)",
   "language": "python",
   "name": "python3"
  },
  "language_info": {
   "codemirror_mode": {
    "name": "ipython",
    "version": 3
   },
   "file_extension": ".py",
   "mimetype": "text/x-python",
   "name": "python",
   "nbconvert_exporter": "python",
   "pygments_lexer": "ipython3",
   "version": "3.9.7"
  }
 },
 "nbformat": 4,
 "nbformat_minor": 1
}
